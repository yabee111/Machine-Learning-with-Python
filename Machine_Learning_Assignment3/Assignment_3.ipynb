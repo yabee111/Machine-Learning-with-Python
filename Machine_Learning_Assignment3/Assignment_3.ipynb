{
 "cells": [
  {
   "cell_type": "code",
   "execution_count": 115,
   "metadata": {
    "id": "2rLCNJkosvpN"
   },
   "outputs": [],
   "source": [
    "# Before submission, set this to True so that you can render and verify this notebook without retraining all the deep learning models.\n",
    "# All models will be loaded from file instead.\n",
    "stop_training = True"
   ]
  },
  {
   "cell_type": "code",
   "execution_count": 2,
   "metadata": {
    "colab": {
     "base_uri": "https://localhost:8080/"
    },
    "id": "tffYmyfmoYla",
    "outputId": "ccc2aee1-24a2-411b-af02-d2127ffb701d"
   },
   "outputs": [],
   "source": [
    "# Uncomment the following line to run in Google Colab\n",
    "# This will link the notebook to your Google drive to store your models and cache the dataset.\n",
    "# This will probably ask you to click on a link to get a verification code.\n",
    "# from google.colab import drive\n",
    "# drive.mount('/content/drive', force_remount=True)"
   ]
  },
  {
   "cell_type": "code",
   "execution_count": 3,
   "metadata": {
    "colab": {
     "base_uri": "https://localhost:8080/"
    },
    "id": "9zKvKkU6loSr",
    "outputId": "c665033c-8c92-4271-9b3a-b1305e6a32dc"
   },
   "outputs": [],
   "source": [
    "# Uncomment the following to check whether you have access to a GPU in Google Colab\n",
    "# See further instructione below.\n",
    "# import tensorflow as tf\n",
    "# tf.config.experimental.list_physical_devices('GPU') "
   ]
  },
  {
   "cell_type": "code",
   "execution_count": 4,
   "metadata": {
    "id": "-iTn6RmNMuLT"
   },
   "outputs": [],
   "source": [
    "# Uncomment to install tensorflow_datasets\n",
    "#!pip install tensorflow_datasets --quiet\n",
    "#!pip install pydot --quiet"
   ]
  },
  {
   "cell_type": "code",
   "execution_count": 5,
   "metadata": {
    "colab": {
     "base_uri": "https://localhost:8080/"
    },
    "id": "brth0Z_TMuLZ",
    "outputId": "2c339026-5961-4fbe-ad2c-4c23b93315f4"
   },
   "outputs": [
    {
     "name": "stdout",
     "output_type": "stream",
     "text": [
      "Looks good. You may continue :)\n"
     ]
    }
   ],
   "source": [
    "%matplotlib inline\n",
    "import numpy as np\n",
    "import matplotlib.pyplot as plt\n",
    "from packaging import version\n",
    "import sklearn\n",
    "import tensorflow as tf\n",
    "tensorflow_version = tf.__version__\n",
    "if version.parse(tensorflow_version) < version.parse(\"2.2.0\"):\n",
    "    print(\"Tensorflow is outdated. This is version {}. Please update to 2.2 or later (e.g. 2.4)\".format(tensorflow_version))\n",
    "elif version.parse(tensorflow_version) < version.parse(\"2.4.0\"):\n",
    "    print(\"Tensorflow version is <2.4. This will likely work but we recommend updating to 2.4\".format(tensorflow_version))\n",
    "else:\n",
    "    print(\"Looks good. You may continue :)\")"
   ]
  },
  {
   "cell_type": "markdown",
   "metadata": {
    "id": "7kdeFjIGMuLv"
   },
   "source": [
    "# Assignment 3"
   ]
  },
  {
   "cell_type": "code",
   "execution_count": 6,
   "metadata": {
    "id": "wt4JxbHGoh5c"
   },
   "outputs": [],
   "source": [
    "# Fill in your names using the format below\n",
    "your_name = \"Nien, Ting-Yu\""
   ]
  },
  {
   "cell_type": "markdown",
   "metadata": {
    "id": "ljhP8DXu-H4j"
   },
   "source": [
    "### Choice of libraries\n",
    "We recommend to use Tensorflow in this assignment since that is what we covered in the labs. If you feel confident using PyTorch (and Skorch for the scikit-learn wrapper), that is allowed too, as long as you are able to implement the requested functions and return the requested data. Read the assignment carefully and ensure that you can. Note that you may also need to do a bit more work to implement certain helper functions and wrappers."
   ]
  },
  {
   "cell_type": "markdown",
   "metadata": {
    "id": "D_BDIpWh92Dk"
   },
   "source": [
    "### Using GPUs\n",
    "While you can solve this assignment on a CPU, using a GPU will speed up training a lot. If you have a local GPU, you can use that. If you don't, we recommend Google Colab. When you are in Colab:\n",
    "* In Runtime > Change runtime type, select the GPU under Hardware Accelerator\n",
    "* Run the 4th cell on the top of this notebook to check that the GPU is found.\n",
    "\n",
    "Note that the free version of Colab may not always have GPUs ready all the time, and may deny you a GPU when you have used them a lot. When you are temporarily 'locked out', you can switch to a non-GPU runtime or to a local instance of Jupyter running on your machine. Take this into account in your planning, so that you don't do all your training at the last moment and are locked out right before the deadline."
   ]
  },
  {
   "cell_type": "markdown",
   "metadata": {
    "id": "-BQG9Kp2EcPc"
   },
   "source": [
    "### Storing and submitting files\n",
    "You must be able to store your models and submit them to GitHub Classroom. The evaluation functions used in this notebook will automatically store models for you. Be sure to upload all .h5 and .p files, as well as any .json files created (these are created only for large models).\n",
    "\n",
    "If you want to run and solve the notebook on your local machine/laptop, fill in the path 'base_dir' to your assignment folder into the next cell.\n",
    "\n",
    "If you use Colab, we recommend that you link it to your Google Drive:  \n",
    "* Upload the assignment folder to your Google Drive (+ New > Folder Upload)\n",
    "* Open Colab in a browser, open the 'Files' menu in the left sidebar, and click 'Mount Drive'\n",
    "  * At this point you may need to authenticate\n",
    "  * The 2nd cell (above) does this programmatically for you\n",
    "* Fill in the path to your assignment folder below\n",
    "  * It's likely `base_dir = '/content/drive/My Drive/assignment-3-name'`\n",
    "  * 'name' will likely be your github handle"
   ]
  },
  {
   "cell_type": "code",
   "execution_count": 7,
   "metadata": {
    "id": "aO6jTIIFHQNU"
   },
   "outputs": [],
   "source": [
    "# Define where the models should be stored\n",
    "base_dir = './'"
   ]
  },
  {
   "cell_type": "markdown",
   "metadata": {
    "id": "9wtWHvLfJyFe"
   },
   "source": [
    "### Verification and submission\n",
    "\n",
    "If you use Colab, there are a few things to consider before submission:\n",
    "* You need to download the notebook and all the models from your Google Drive to a local folder. Models should be stored in the main directory, next to your notebook.\n",
    "* To run the notebook locally (e.g. for the verification script), make sure that you have set `stop_training = True` in the first cell to avoid retraining all models. Also comment out any Colab-specific code in the cells above.\n",
    "* Set `base_dir` back to your local directory where the files are, likely `base_dir = './'`\n",
    "* Again, don't wait until the last moment to verify and submit."
   ]
  },
  {
   "cell_type": "markdown",
   "metadata": {
    "id": "hq6oPNF546_5"
   },
   "source": [
    "### Constraints\n",
    "* Your stored models should not be larger than 100MB when stored in file. GitHub will not allow uploading if they are. We provide code below that stores the model efficiently. Smaller models are simply stored entirely to disk as one h5 file. For larger models, we will only store the weights (h5 file) and structure (json file), and ignore the state of the optimizer. In any case, the weights alone should not take more than 100MB of storage. Take this into account especially for loading pre-trained models in the last question. Bigger pre-trained models are not always better - in fact they will easily overfit. Make sure that your model weights take less than 100MB of storage.\n",
    "* When questions ask you to provide an explanation, it should be less than 600\n",
    "characters long. Be concise, but answer in full sentences. Focus on the essence, don't ramble.\n",
    "* Don't train for more than 100 epochs, i.e. don't throw excessing computational resources at the problem. If your model hasn't converged by then, think of ways it could be made to converge faster. In this assignment you are not after the last tiny improvement, you can stop when learning curves flatten out. Do at least 5 epochs to get a reasonable learning curve."
   ]
  },
  {
   "cell_type": "markdown",
   "metadata": {
    "id": "h8wBDNspEvcY"
   },
   "source": [
    "### Grading\n",
    "Grading is based on the following aspects:\n",
    "* Correctness in answering the question. Carefully read the question and answer\n",
    "what is asked for. Train your models on the correct data. It should be clear on which data should be trained, but ask when in doubt. When something is not defined (e.g. the number of epochs or batch size), you can freely choose them.\n",
    "* Clarity of your explanations. Write short but precise descriptions of what you did and why. Give short but clear explanations of the observed performance. \n",
    "After your explanation, your approach and model should make perfect sense. Refrain from using symbols as substitute for words in your explanation (e.g. no: \"More layers -> more parameters\", yes: \"More layers mean more parameters\"). \n",
    "* Part of your grade depends on how well your models perform. When the question says 'you should at least get x%', x% will give you a good but not the maximal grade. You can get the full grade when you are close to what is the expected maximal performance, with the top grade awarded to the best model in class. You don't need to invest lots of effort into the last tiny improvement, though. Unless specified, we look at the accuracy on the validation set. If your learning curves are very erratic we'll compute a score based on the smoothed curves (i.e. single peaks don't count).\n",
    "* The weight of each question is indicated. Take this into account when planning your time."
   ]
  },
  {
   "cell_type": "markdown",
   "metadata": {
    "id": "KNyA5dEpR00Z"
   },
   "source": [
    "### Other tips\n",
    "* Don't wait until the last minute to do the assignment. The models take time to train, most questions will require some thinking, and some require you to read up on some new concepts.\n",
    "* Take care that you upload the results as requested. You need to submit not only the notebooks but also the trained models and learning curves (training histories). Be sure to run the verification script and check that all the results are included.\n",
    "* The dataset we will use is quite large and can take a while to download and cache for the first time, especially if you have limited RAM on your local device (laptop). Once cached, it should load fast. Even if you use Colab, at least run the notebook once locally when you start doing the assignment (i.e., now). That way the dataset will be cached so that you can do the verification faster.\n",
    "* We provide an evaluation function that also stored models to disk. After you are done training the model, set the 'train' attribute to False so that the model doesn't train again (and loads from file instead) when you restart and rerun your notebook.\n",
    "* Explore. For many questions we'll ask you to explain your model design decisions. You cannot magically know the best solutions but you can experiment\n",
    "based on your understanding and make decisions based on both your knowledge and experiments. Your explanation is at least as important as the performance of your model. Don't say 'I tried every possible option and this is the best I found', but rather 'I tried X because I think that Y' and then interpret the results and what you learned from them'.\n",
    "* **Be original. We will check for plagiarism between student submissions.**"
   ]
  },
  {
   "cell_type": "markdown",
   "metadata": {
    "id": "IosW3Ba9sWVS"
   },
   "source": [
    "### Data\n",
    "\n",
    "For this assigment we will use a [Tensorflow Dataset](https://www.tensorflow.org/datasets). We selected [rock_paper_scissors dataset](https://www.tensorflow.org/datasets/catalog/rock_paper_scissors) which includes images of hands playing rock, paper and scissor game. Each image is of shape (300, 300, 3) and the dataset contains 2520 training and 372 testing images. You can explore the images from this dataset at [this link](https://knowyourdata-tfds.withgoogle.com/#tab=STATS&dataset=rock_paper_scissors)."
   ]
  },
  {
   "cell_type": "code",
   "execution_count": 16,
   "metadata": {
    "colab": {
     "base_uri": "https://localhost:8080/",
     "height": 269,
     "referenced_widgets": [
      "0aec2738489b40319af475967e744015",
      "ac405f8086d84afc90bc9c99122bb379",
      "fbd9b2e93a7b4fcd83d89447698ac456",
      "e51b077c9b6b4edab0ee82167c9f014a",
      "7f71525fe79945e3970b73a59494175e",
      "5bd39289efca4efeae241abb9b7983fd",
      "18eda5043abc49339d16c813757050fe",
      "51177a0318654c218b5c0aceec974353",
      "1ac88ca3eb604a78b7048e977c8d4e1b",
      "a2358539513d4aedb092318a1acf7a79",
      "b752181f060a4840b57d326d6b4504a3",
      "13bd36370fd04c60bff7b3431c545302",
      "806c0ef2eb374689b90a1d26ce09cf61",
      "7cc65a7325144fef8534ead6c1610720",
      "ccc93910df5646ba9f89e24ef9cfe616",
      "0e49f6cacd39432393ee0d0c7f27122f",
      "39b7030d6b98439bafeea3e13d3e7863",
      "ded362555f0a4baa8ebb189114464cff",
      "afed341a43a3445697d9287607bab6a9",
      "a2a50b20b3574ec59781560a0b1daec7",
      "5114ce0414b146608aa01a1cc4aba56e",
      "5790c4ea76e94a6da52aaa120b0efea5",
      "a07082b97f524c61ba943e479a7a3ec3",
      "e3e41fd146214429ad80c421d3651fcd",
      "dee620440e6e49e999c3f3c148069531",
      "77484e64fdd74fbb80eab549a25dc97e",
      "5050fb25cc99401fb356f0b0bcc28cf3",
      "61220b488c7244b6ab4c39e4f4c2689a",
      "5342b26a17e944a0b9ac2f634c2eccb4",
      "58c439c4d54d4dab8dd0585bf825f287",
      "82613981384d4f738bffe2ed9bd3ff82",
      "1a0c78146a404cffa281af9819ca177f",
      "4c3b3f9ed85a4d21ba0ca9862bdb969b",
      "564cda3f0da646229b604e2326c13cec",
      "61794be8a1914b389a9f57eea74a78e8",
      "942c2d7530bd4834895a2dd69cd0985e",
      "5a82486c3424441e9c647d30359564cf",
      "35d65306ce79486abf33bf8937e9a43c",
      "dd144b57593c42bb8d967d0fe5994940",
      "105030aaec114b2eb731f9d48777a419",
      "5dde86dbb9f74f24aca6c05dbaf246c5",
      "cb33178721004f6ca2704d8684f0e192",
      "d5d96731fc2549d9bc4e14f84662d2a5",
      "6ce79242428d42f6be5ba6090879013f",
      "6276805a945e45c4bdfbb618b2f619cf",
      "b691e3ac85c048b893ce4eec03ef5e19",
      "4d9436cc11844fa6b211f411d5a61b5d",
      "b0dc22cfa1fc4fba8457156080e5ba71",
      "ac65ed95f9b947c4bf4a3021a791a07e",
      "5729c25817aa438bbe5a1642912ae559",
      "64569f2d39134623b52b80cfc7674bab",
      "57cc23555aa94bcf80b06fc855655f9b",
      "e5e450f65aa241bb8c8b82aecad657b6",
      "04280525950f450dae954981b4424344",
      "74a65d05987a4aeb82ca709dc62c9303",
      "7205a60845604b91a2cdf4cfc6c8064f",
      "ff1610e548aa4ea0aa151058bcd689e9",
      "fd180c829444484f84d781cd1609cf7e",
      "e0ae49e73ef2484885cd8fe198f19434",
      "800e0190dbbd4492aa6b78df8a33417e",
      "cc248f66534b4aa1979529f403f0f88b",
      "2718f79d354441e1aada52ff950575aa",
      "97d66690554341ca97bc3a11be7cdc26",
      "f00c4b538af2486b943ae2634ea82a98",
      "9031444ca05e427c86dc2d9f16e75b12",
      "68018fff4cfe4a82a9f001f97ce1c789"
     ]
    },
    "id": "ydG5p473WfjZ",
    "outputId": "1bd4328e-28b1-4cc3-da73-9ef9f18a5c8c"
   },
   "outputs": [],
   "source": [
    "import tensorflow_datasets as tfds\n",
    "\n",
    "ds_train, ds_test = tfds.load(\n",
    "    'rock_paper_scissors',\n",
    "    split=['train', 'test'],\n",
    "    shuffle_files=False,\n",
    ")"
   ]
  },
  {
   "cell_type": "markdown",
   "metadata": {
    "id": "wTpvyWPsgRuH"
   },
   "source": [
    "#### Image preprocessing\n",
    "\n",
    "We need to resize the images to fit the RAM memory provided by Google Colab. We reshape each dataset entry from (300, 300, 3) to (160, 160, 3). The `IMG_SIZE = 160` is chosen to be compatible with the trained weights of the model used for transfer learning at the end of the assigment. The value of each pixel is converted from [0, 255] range to [0, 1] range."
   ]
  },
  {
   "cell_type": "code",
   "execution_count": 17,
   "metadata": {
    "id": "ycqNZsXBsvb8"
   },
   "outputs": [],
   "source": [
    "IMG_SIZE  = 160\n",
    "IMG_SHAPE = (IMG_SIZE, IMG_SIZE, 3)\n",
    "\n",
    "def process_img(sample):\n",
    "  sample['image'] = tf.cast(sample['image'], tf.float32)\n",
    "  sample['image'] = sample['image'] / 255.\n",
    "  sample['image'] = tf.image.resize(sample['image'], [IMG_SIZE, IMG_SIZE])\n",
    "  return sample\n",
    "\n",
    "ds_train = ds_train.map(process_img)\n",
    "ds_test  = ds_test.map(process_img)"
   ]
  },
  {
   "cell_type": "markdown",
   "metadata": {
    "id": "ZicYKp2vh9V_"
   },
   "source": [
    "We randomly split the training dataset into 90% (X_train, y_train) and 10% (X_valid, y_valid). The final split contains 2268 training, 252 validation and 372 testing images."
   ]
  },
  {
   "cell_type": "code",
   "execution_count": 25,
   "metadata": {
    "id": "JkJEuE2ntYAW"
   },
   "outputs": [],
   "source": [
    "# Don't change the name of these variables\n",
    "\n",
    "from tensorflow.keras.utils import to_categorical\n",
    "from sklearn.model_selection import train_test_split \n",
    "\n",
    "ds_train_np = np.vstack(list(tfds.as_numpy(ds_train)))\n",
    "ds_test_np  = np.vstack(list(tfds.as_numpy(ds_test)))\n",
    "\n",
    "X_train_all = np.array(list(map(lambda x: x[0]['image'], ds_train_np)))\n",
    "y_train_all = np.array(list(map(lambda x: x[0]['label'], ds_train_np)))\n",
    "y_train_all = to_categorical(y_train_all)\n",
    "\n",
    "X_test = np.array(list(map(lambda x: x[0]['image'], ds_test_np)))\n",
    "y_test = np.array(list(map(lambda x: x[0]['label'], ds_test_np)))\n",
    "y_test = to_categorical(y_test)\n",
    "\n",
    "X_train, X_valid, y_train, y_valid = train_test_split(X_train_all,y_train_all, stratify=y_train_all, \n",
    "                                                      train_size=0.9, test_size=0.1, random_state=32)\n",
    "\n",
    "evaluation_split = X_train, X_valid, y_train, y_valid\n",
    "class_names = [\"rock\", \"paper\", \"scissors\"]"
   ]
  },
  {
   "cell_type": "markdown",
   "metadata": {
    "id": "gUAf28y2O6ks"
   },
   "source": [
    "Check the formatting - and what the data looks like"
   ]
  },
  {
   "cell_type": "code",
   "execution_count": 26,
   "metadata": {
    "colab": {
     "base_uri": "https://localhost:8080/",
     "height": 361
    },
    "id": "fSNxfklrtseI",
    "outputId": "bca2b0d3-0891-4114-8158-a30ef4b35096"
   },
   "outputs": [
    {
     "data": {
      "image/png": "[encoded data removed]",
      "text/plain": [
       "<Figure size 1080x2160 with 5 Axes>"
      ]
     },
     "metadata": {},
     "output_type": "display_data"
    },
    {
     "data": {
      "image/png": "[encoded data removed]",
      "text/plain": [
       "<Figure size 1080x2160 with 5 Axes>"
      ]
     },
     "metadata": {},
     "output_type": "display_data"
    }
   ],
   "source": [
    "from random import randint\n",
    "\n",
    "# Takes a list of row ids, and plots the corresponding images\n",
    "# Use grayscale=True for plotting grayscale images\n",
    "def plot_images(X, y, grayscale=False):\n",
    "    fig, axes = plt.subplots(1, len(X),  figsize=(15,30))\n",
    "    for n in range(len(X)):\n",
    "        if grayscale:\n",
    "            axes[n].imshow(X[n], cmap='gray')\n",
    "        else:\n",
    "            axes[n].imshow(X[n])\n",
    "        axes[n].set_xlabel(class_names[np.argmax(y[n])])\n",
    "        axes[n].set_xticks(()), axes[n].set_yticks(())\n",
    "    plt.show();\n",
    "\n",
    "images = [randint(0,len(X_train)-1) for i in range(5)]\n",
    "X_random = [X_train[i] for i in images]\n",
    "y_random = [y_train[i] for i in images]\n",
    "plot_images(X_random, y_random)\n",
    "\n",
    "\n",
    "images = [randint(0,len(X_test)-1) for i in range(5)]\n",
    "X_random = [X_test[i] for i in images]\n",
    "y_random = [y_test[i] for i in images]\n",
    "plot_images(X_random, y_random)"
   ]
  },
  {
   "cell_type": "code",
   "execution_count": 66,
   "metadata": {
    "colab": {
     "base_uri": "https://localhost:8080/"
    },
    "id": "KDp46EQ9ZCZz",
    "outputId": "f8f90787-cce4-4a5b-8e70-4270ad0e3e4d"
   },
   "outputs": [
    {
     "data": {
      "text/plain": [
       "(2268, 160, 160, 3)"
      ]
     },
     "execution_count": 66,
     "metadata": {},
     "output_type": "execute_result"
    }
   ],
   "source": [
    "X_train.shape"
   ]
  },
  {
   "cell_type": "code",
   "execution_count": 67,
   "metadata": {
    "colab": {
     "base_uri": "https://localhost:8080/"
    },
    "id": "CmmSyAJris0c",
    "outputId": "9ba4f311-ccc9-45dd-c173-4d3a58e02a21"
   },
   "outputs": [
    {
     "data": {
      "text/plain": [
       "(252, 160, 160, 3)"
      ]
     },
     "execution_count": 67,
     "metadata": {},
     "output_type": "execute_result"
    }
   ],
   "source": [
    "X_valid.shape"
   ]
  },
  {
   "cell_type": "code",
   "execution_count": 68,
   "metadata": {
    "colab": {
     "base_uri": "https://localhost:8080/"
    },
    "id": "3NEE62YMZEhL",
    "outputId": "c0563f5c-29bf-497e-c773-61a83d84c99b"
   },
   "outputs": [
    {
     "data": {
      "text/plain": [
       "(372, 160, 160, 3)"
      ]
     },
     "execution_count": 68,
     "metadata": {},
     "output_type": "execute_result"
    }
   ],
   "source": [
    "X_test.shape"
   ]
  },
  {
   "cell_type": "markdown",
   "metadata": {
    "id": "yUQ22FEawd-J"
   },
   "source": [
    "### Evaluation harness\n",
    "We provide an evaluation function 'run_evaluation' that you should use to \n",
    "evaluate all your models. It also stores the trained models to disk so that\n",
    "your submission can be quickly verified, as well as to avoid having to train\n",
    "them over and over again. Your last run of the evaluation function (the last one\n",
    "stored to file), is the one that will be evaluated. The 'train' argument indicates whether to train or to load from disk. We have provided helper functions for saving and loading models to/from file, assuming you use TensorFlow. If you use PyTorch you'll have to adapt them."
   ]
  },
  {
   "cell_type": "code",
   "execution_count": 27,
   "metadata": {
    "id": "SFGTq4mUV2zK"
   },
   "outputs": [],
   "source": [
    "import os\n",
    "import pickle\n",
    "import pandas as pd\n",
    "import numpy as np\n",
    "from tensorflow.keras.models import load_model # for use with tensorflow\n",
    "from tensorflow.keras.models import model_from_json\n",
    "import pydot\n",
    "from tensorflow.keras.utils import plot_model\n",
    "from IPython.display import Image\n",
    "import inspect\n",
    "from IPython.core import page\n",
    "page.page = print\n",
    "\n",
    "# Helper function for user feedback\n",
    "def shout(text, verbose=1):\n",
    "    \"\"\" Prints text in red. Just for fun.\n",
    "    \"\"\"\n",
    "    if verbose>0:\n",
    "        print('\\033[91m'+text+'\\x1b[0m')\n",
    "        \n",
    "# Helper function to extract min/max from the learning curves\n",
    "def minMax(x):\n",
    "    return pd.Series(index=['min','max'],data=[x.min(),x.max()])\n",
    "\n",
    "# Helper function to format answers\n",
    "def print_answer(ans):\n",
    "    output = \"\"\n",
    "    for line in ans.splitlines()[0:]:\n",
    "        output += line.strip() + \" \"\n",
    "    output += \"(length: \"+str(len(output))+\")\\n\"\n",
    "    print(output)\n",
    "    \n",
    "\n",
    "def load_model_from_file(base_dir, name, extension='.h5'):\n",
    "    \"\"\" Loads a model from a file. The returned model must have a 'fit' and 'summary'\n",
    "    function following the Keras API. Don't change if you use TensorFlow. Otherwise,\n",
    "    adapt as needed. \n",
    "    Keyword arguments:\n",
    "    base_dir -- Directory where the models are stored\n",
    "    name -- Name of the model, e.g. 'question_1_1'\n",
    "    extension -- the file extension\n",
    "    \"\"\"\n",
    "    try:\n",
    "        # if a json description is available, load config and then weights\n",
    "        if os.path.isfile(os.path.join(base_dir, name+'.json')):\n",
    "            json_file = open(os.path.join(base_dir, name+'.json'), 'r')\n",
    "            loaded_model_json = json_file.read()\n",
    "            json_file.close()\n",
    "            model = model_from_json(loaded_model_json)\n",
    "            model.load_weights(os.path.join(base_dir, name+extension))\n",
    "        # else just load the entire model from hdf5 file\n",
    "        else:\n",
    "            model = load_model(os.path.join(base_dir, name+extension))\n",
    "    except OSError:\n",
    "        shout(\"Saved model could not be found. Was it trained and stored correctly? Is the base_dir correct?\")\n",
    "        return False\n",
    "    return model\n",
    "\n",
    "def save_model_to_file(model, base_dir, name, extension='.h5'):\n",
    "    \"\"\" Saves a model to file. Don't change if you use TensorFlow. Otherwise,\n",
    "    adapt as needed.\n",
    "    Keyword arguments:\n",
    "    model -- the model to be saved\n",
    "    base_dir -- Directory where the models should be stored\n",
    "    name -- Name of the model, e.g. 'question_1_1'\n",
    "    extension -- the file extension\n",
    "    \"\"\"\n",
    "    path = os.path.join(base_dir, name+extension)\n",
    "    model.save(path)\n",
    "    size = os.path.getsize(path)\n",
    "    # If model > 100MB, store the weights and architecture only.\n",
    "    if size > 100*1024*1024:\n",
    "        print(\"Model larger than 100MB, storing weights only.\")\n",
    "        model.save_weights(path)\n",
    "        model_json = model.to_json()\n",
    "        with open(os.path.join(base_dir, name+\".json\"), \"w\") as json_file:\n",
    "            json_file.write(model_json)\n",
    "\n",
    "# Evaluation harness\n",
    "def run_evaluation(name, model_builder, data, base_dir, train=True, \n",
    "                   generator=False, epochs=3, batch_size=32, steps_per_epoch=60, \n",
    "                   verbose=1, print_model=True, **kwargs):\n",
    "    \"\"\" Trains and evaluates the given model on the predefined train and test splits,\n",
    "    stores the trained model and learning curves. Also prints out a summary of the \n",
    "    model and plots the learning curves.\n",
    "    Keyword arguments:\n",
    "    name -- the name of the model to be stored, e.g. 'question_1_1.h5'\n",
    "    model_builder -- function that returns an (untrained) model. The model must \n",
    "                     have a 'fit' function that follows the Keras API. It can wrap\n",
    "                     a non-Keras model as long as the 'fit' function takes the \n",
    "                     same attributes and returns the learning curves (history).\n",
    "                     It also must have a 'summary' function that prints out a \n",
    "                     model summary, and a 'save' function that saves the model \n",
    "                     to disk. \n",
    "    data -- data split for evaluation. A tuple of either:\n",
    "            * Numpy arrays (X_train, X_val, y_train, y_val)\n",
    "            * A data generator and validation data (generator, X_val, y_val)\n",
    "    base_dir -- the directory to save or read models to/from\n",
    "    train -- whether or not the data should be trained. If False, the trained model\n",
    "             will be loaded from disk.\n",
    "    generator -- whether the data is given as a generator or not. Set batch size to None when using a generator.\n",
    "    epochs -- the number of epochs to train for\n",
    "    batch_size -- the batch size to train with. Set batch size to None when using a generator.\n",
    "    steps_per_epoch -- steps per epoch, in case a generator is used (ignored otherwise)\n",
    "    verbose -- verbosity level, 0: silent, 1: minimal,...\n",
    "    print_model -- whether or not to print the model\n",
    "    kwargs -- keyword arguments that should be passed to model_builder.\n",
    "              Not required, but may help you to adjust its behavior\n",
    "    \"\"\"\n",
    "    model = model_builder(**kwargs)\n",
    "    if not model:\n",
    "        shout(\"No model is returned by the model_builder\")\n",
    "        return\n",
    "    if not hasattr(model, 'fit'):\n",
    "        shout(\"Model is not built correctly\")\n",
    "        return\n",
    "    learning_curves = {}\n",
    "\n",
    "    if train and not stop_training: # Train anew\n",
    "        shout(\"Training the model\", verbose)\n",
    "        if generator:\n",
    "            generator, X_val, y_val = data\n",
    "            history = model.fit(generator, epochs=epochs, batch_size=batch_size,\n",
    "                              steps_per_epoch=steps_per_epoch, verbose=1, \n",
    "                              validation_data=(X_val, y_val))\n",
    "            learning_curves = history.history\n",
    "        else:\n",
    "            X_train, X_val, y_train, y_val = data\n",
    "            history = model.fit(X_train, y_train, epochs=epochs, batch_size=batch_size,\n",
    "                              verbose=1, validation_data=(X_val, y_val))\n",
    "            learning_curves = history.history\n",
    "        shout(\"Saving to file\", verbose)\n",
    "        save_model_to_file(model, base_dir, name)\n",
    "        with open(os.path.join(base_dir, name+'.p'), 'wb') as file_pi:\n",
    "            pickle.dump(learning_curves, file_pi)\n",
    "        shout(\"Model stored in \"+base_dir, verbose)\n",
    "    else: # Load from file\n",
    "        model = load_model_from_file(base_dir, name)\n",
    "        if not model:\n",
    "            shout(\"Model not found\")\n",
    "            return\n",
    "        learning_curves = None\n",
    "        try:\n",
    "            learning_curves = pickle.load(open(os.path.join(base_dir, name+'.p'), \"rb\"))\n",
    "        except FileNotFoundError:\n",
    "            shout(\"Learning curves not found\")\n",
    "            return\n",
    "    # Report\n",
    "    lc = pd.DataFrame(learning_curves)\n",
    "    print(\"Max val score: {:.2f}%\".format(lc.iloc[:,3].max()*100))\n",
    "    lc.plot(lw=2,style=['b:','r:','b-','r-']);\n",
    "    plt.xlabel('epochs');\n",
    "    plt.show()\n",
    "    \n",
    "    if print_model:\n",
    "        print(model.summary())\n",
    "    plot_model(model, to_file=os.path.join(base_dir,name+'.png'))"
   ]
  },
  {
   "cell_type": "code",
   "execution_count": 15,
   "metadata": {
    "colab": {
     "base_uri": "https://localhost:8080/",
     "height": 730
    },
    "id": "FCzYq_jpkDZO",
    "outputId": "dd1fbd95-aa49-43fd-dd5b-af4ff7decea8"
   },
   "outputs": [
    {
     "name": "stdout",
     "output_type": "stream",
     "text": [
      "\u001b[91mTraining the model\u001b[0m\n",
      "Epoch 1/3\n",
      " 5/71 [=>............................] - ETA: 0s - loss: 37.5048 - accuracy: 0.3187"
     ]
    },
    {
     "name": "stderr",
     "output_type": "stream",
     "text": [
      "2022-04-12 00:39:48.747105: I tensorflow/core/grappler/optimizers/custom_graph_optimizer_registry.cc:112] Plugin optimizer for device_type GPU is enabled.\n"
     ]
    },
    {
     "name": "stdout",
     "output_type": "stream",
     "text": [
      "71/71 [==============================] - 1s 14ms/step - loss: 4.8973 - accuracy: 0.3192 - val_loss: 1.0986 - val_accuracy: 0.3333\n",
      "Epoch 2/3\n",
      " 6/71 [=>............................] - ETA: 0s - loss: 1.0988 - accuracy: 0.2969"
     ]
    },
    {
     "name": "stderr",
     "output_type": "stream",
     "text": [
      "2022-04-12 00:39:49.724626: I tensorflow/core/grappler/optimizers/custom_graph_optimizer_registry.cc:112] Plugin optimizer for device_type GPU is enabled.\n"
     ]
    },
    {
     "name": "stdout",
     "output_type": "stream",
     "text": [
      "71/71 [==============================] - 1s 12ms/step - loss: 1.0987 - accuracy: 0.3205 - val_loss: 1.0986 - val_accuracy: 0.3333\n",
      "Epoch 3/3\n",
      "71/71 [==============================] - 1s 12ms/step - loss: 1.0988 - accuracy: 0.3285 - val_loss: 1.0986 - val_accuracy: 0.3333\n",
      "\u001b[91mSaving to file\u001b[0m\n",
      "\u001b[91mModel stored in ./\u001b[0m\n",
      "Max val score: 33.33%\n"
     ]
    },
    {
     "data": {
      "image/png": "[encoded data removed]",
      "text/plain": [
       "<Figure size 432x288 with 1 Axes>"
      ]
     },
     "metadata": {
      "needs_background": "light"
     },
     "output_type": "display_data"
    },
    {
     "name": "stdout",
     "output_type": "stream",
     "text": [
      "Model: \"sequential_1\"\n",
      "_________________________________________________________________\n",
      " Layer (type)                Output Shape              Param #   \n",
      "=================================================================\n",
      " reshape_1 (Reshape)         (None, 76800)             0         \n",
      "                                                                 \n",
      " dense_2 (Dense)             (None, 10)                768010    \n",
      "                                                                 \n",
      " dense_3 (Dense)             (None, 3)                 33        \n",
      "                                                                 \n",
      "=================================================================\n",
      "Total params: 768,043\n",
      "Trainable params: 768,043\n",
      "Non-trainable params: 0\n",
      "_________________________________________________________________\n",
      "None\n",
      "('You must install pydot (`pip install pydot`) and install graphviz (see instructions at https://graphviz.gitlab.io/download/) ', 'for plot_model/model_to_dot to work.')\n"
     ]
    }
   ],
   "source": [
    "# Toy usage example\n",
    "from tensorflow.keras import models\n",
    "from tensorflow.keras import layers \n",
    "\n",
    "def build_toy_model():\n",
    "    model = models.Sequential()\n",
    "    model.add(layers.Reshape((IMG_SIZE*IMG_SIZE*3,), input_shape=(IMG_SIZE,IMG_SIZE,3)))\n",
    "    model.add(layers.Dense(10, activation='relu'))\n",
    "    model.add(layers.Dense(3, activation='softmax'))\n",
    "    model.compile(optimizer='rmsprop',\n",
    "                  loss='categorical_crossentropy',\n",
    "                  metrics=['accuracy'])\n",
    "    return model\n",
    "\n",
    "# First build and store\n",
    "run_evaluation(\"toy_example\", build_toy_model, evaluation_split, base_dir, \n",
    "               train=True, epochs=3, batch_size=32)"
   ]
  },
  {
   "cell_type": "code",
   "execution_count": null,
   "metadata": {
    "colab": {
     "base_uri": "https://localhost:8080/",
     "height": 574
    },
    "id": "vKkkQwwdta8r",
    "outputId": "b486f11a-f04e-42d6-ffdb-55ce7f7e7f5d"
   },
   "outputs": [],
   "source": [
    "# Toy usage example\n",
    "# With train=False: load from file and report the same results without rerunning\n",
    "run_evaluation(\"toy_example\", build_toy_model, evaluation_split, base_dir, \n",
    "               train=False)"
   ]
  },
  {
   "cell_type": "markdown",
   "metadata": {
    "id": "leo7YbI9L5et"
   },
   "source": [
    "## Part 1. Convolutional neural networks (30 points)\n",
    "### Question 1.1: Design a ConvNet (15 points)\n",
    "- Build a sequential convolutional neural network to distinguish rock, paper and scissors hand images.\n",
    "- Try to achieve the best validation accuracy you can. You should be able to get at least 65% validation accuracy. You can use any depth, any combination of layers, and any kind of regularization and tuning. You can use different batch sizes and number of epochs.\n",
    "- Add a description of your design choices in 'answer_q_1_1': explain what you did and also why. Also discuss the performance of the model. Is it working well? Both the performance of the model and your explanations matter.\n",
    "- Explictly explore different filter sizes and padding techniques. Explain what the effect is, also in relationship with the layer input sizes.\n",
    "- You are allowed **600** characters for this answer (but don’t ramble).\n",
    "- The name of the model should be 'model_1_1'. Evaluate it using the 'run_evaluation' function and the preprocessed data as shown below.\n",
    "\n",
    "**NOTE:** The training is expected to be noisy and unstable.The training dataset is quite small, with a lot of variety in terms of the position of the hand, skin color, left and right hand. For this exercise, we will not use any data augmentation, so avoiding overfitting is quite hard. However, you are expected to tackle the overfitting by layer regularization, dropout layers, learning rate tuning a.s.o."
   ]
  },
  {
   "cell_type": "code",
   "execution_count": 116,
   "metadata": {
    "colab": {
     "base_uri": "https://localhost:8080/"
    },
    "id": "0yFJvzedp13Q",
    "outputId": "35b7aac9-ccb6-4d61-b787-ae73f36bcd17"
   },
   "outputs": [
    {
     "name": "stdout",
     "output_type": "stream",
     "text": [
      "Max val score: 94.84%\n"
     ]
    },
    {
     "data": {
      "image/png": "[encoded data removed]",
      "text/plain": [
       "<Figure size 432x288 with 1 Axes>"
      ]
     },
     "metadata": {
      "needs_background": "light"
     },
     "output_type": "display_data"
    },
    {
     "name": "stdout",
     "output_type": "stream",
     "text": [
      "Model: \"sequential_2\"\n",
      "_________________________________________________________________\n",
      " Layer (type)                Output Shape              Param #   \n",
      "=================================================================\n",
      " conv2d_14 (Conv2D)          (None, 160, 160, 64)      1792      \n",
      "                                                                 \n",
      " batch_normalization_16 (Bat  (None, 160, 160, 64)     256       \n",
      " chNormalization)                                                \n",
      "                                                                 \n",
      " conv2d_15 (Conv2D)          (None, 160, 160, 64)      36928     \n",
      "                                                                 \n",
      " batch_normalization_17 (Bat  (None, 160, 160, 64)     256       \n",
      " chNormalization)                                                \n",
      "                                                                 \n",
      " max_pooling2d_12 (MaxPoolin  (None, 80, 80, 64)       0         \n",
      " g2D)                                                            \n",
      "                                                                 \n",
      " dropout_14 (Dropout)        (None, 80, 80, 64)        0         \n",
      "                                                                 \n",
      " conv2d_16 (Conv2D)          (None, 80, 80, 128)       73856     \n",
      "                                                                 \n",
      " batch_normalization_18 (Bat  (None, 80, 80, 128)      512       \n",
      " chNormalization)                                                \n",
      "                                                                 \n",
      " max_pooling2d_13 (MaxPoolin  (None, 40, 40, 128)      0         \n",
      " g2D)                                                            \n",
      "                                                                 \n",
      " dropout_15 (Dropout)        (None, 40, 40, 128)       0         \n",
      "                                                                 \n",
      " conv2d_17 (Conv2D)          (None, 40, 40, 128)       147584    \n",
      "                                                                 \n",
      " batch_normalization_19 (Bat  (None, 40, 40, 128)      512       \n",
      " chNormalization)                                                \n",
      "                                                                 \n",
      " max_pooling2d_14 (MaxPoolin  (None, 20, 20, 128)      0         \n",
      " g2D)                                                            \n",
      "                                                                 \n",
      " dropout_16 (Dropout)        (None, 20, 20, 128)       0         \n",
      "                                                                 \n",
      " conv2d_18 (Conv2D)          (None, 20, 20, 256)       295168    \n",
      "                                                                 \n",
      " batch_normalization_20 (Bat  (None, 20, 20, 256)      1024      \n",
      " chNormalization)                                                \n",
      "                                                                 \n",
      " max_pooling2d_15 (MaxPoolin  (None, 10, 10, 256)      0         \n",
      " g2D)                                                            \n",
      "                                                                 \n",
      " dropout_17 (Dropout)        (None, 10, 10, 256)       0         \n",
      "                                                                 \n",
      " conv2d_19 (Conv2D)          (None, 10, 10, 256)       590080    \n",
      "                                                                 \n",
      " batch_normalization_21 (Bat  (None, 10, 10, 256)      1024      \n",
      " chNormalization)                                                \n",
      "                                                                 \n",
      " max_pooling2d_16 (MaxPoolin  (None, 5, 5, 256)        0         \n",
      " g2D)                                                            \n",
      "                                                                 \n",
      " dropout_18 (Dropout)        (None, 5, 5, 256)         0         \n",
      "                                                                 \n",
      " conv2d_20 (Conv2D)          (None, 5, 5, 256)         590080    \n",
      "                                                                 \n",
      " batch_normalization_22 (Bat  (None, 5, 5, 256)        1024      \n",
      " chNormalization)                                                \n",
      "                                                                 \n",
      " max_pooling2d_17 (MaxPoolin  (None, 2, 2, 256)        0         \n",
      " g2D)                                                            \n",
      "                                                                 \n",
      " dropout_19 (Dropout)        (None, 2, 2, 256)         0         \n",
      "                                                                 \n",
      " flatten_2 (Flatten)         (None, 1024)              0         \n",
      "                                                                 \n",
      " dense_4 (Dense)             (None, 512)               524800    \n",
      "                                                                 \n",
      " batch_normalization_23 (Bat  (None, 512)              2048      \n",
      " chNormalization)                                                \n",
      "                                                                 \n",
      " dropout_20 (Dropout)        (None, 512)               0         \n",
      "                                                                 \n",
      " dense_5 (Dense)             (None, 3)                 1539      \n",
      "                                                                 \n",
      "=================================================================\n",
      "Total params: 2,268,483\n",
      "Trainable params: 2,265,155\n",
      "Non-trainable params: 3,328\n",
      "_________________________________________________________________\n",
      "None\n",
      "('You must install pydot (`pip install pydot`) and install graphviz (see instructions at https://graphviz.gitlab.io/download/) ', 'for plot_model/model_to_dot to work.')\n",
      "\n",
      "Seven convolutional layers with activation function Relu. Batch normalization layers make the network converge faster. Output layer with activation function \"softmax\" with 3 output nodes since it is a multi-classification problem with 3 classes. As the model is prone to overfitting, maxpooling and droupout layers are used. Moreover, using a larger learning rate of 0.01, not default 0.001, as well with the optimizer Adam, which yields better results. So, a larger learning rate (less overfitting) and batch size (relative to original) are applied and find suitable epochs for convergence.\n",
      "\n",
      "Answer is 593 characters long\n"
     ]
    }
   ],
   "source": [
    "from keras import regularizers\n",
    "from tensorflow.keras import optimizers\n",
    "from tensorflow.keras import models\n",
    "from tensorflow.keras import layers \n",
    "\n",
    "def build_model_1_1():\n",
    "    model = models.Sequential()\n",
    "\n",
    "    #Layer1\n",
    "    model.add(layers.Conv2D(64, kernel_size=(3,3), padding='same', kernel_regularizer='l2', activation='relu', input_shape=IMG_SHAPE))\n",
    "    model.add(layers.BatchNormalization())\n",
    "    #Layer2\n",
    "    model.add(layers.Conv2D(64, kernel_size=(3,3), padding='same', kernel_regularizer='l2', activation='relu'))\n",
    "    model.add(layers.BatchNormalization())\n",
    "    model.add(layers.MaxPooling2D((2, 2), strides=(2,2)))\n",
    "    model.add(layers.Dropout(0.3))\n",
    "    #Layer3\n",
    "    model.add(layers.Conv2D(128, kernel_size=(3,3), padding='same', kernel_regularizer='l2', activation='relu'))\n",
    "    model.add(layers.BatchNormalization())\n",
    "    model.add(layers.MaxPooling2D((2, 2), strides=(2,2)))\n",
    "    model.add(layers.Dropout(0.3))\n",
    "    #Layer4\n",
    "    model.add(layers.Conv2D(128, kernel_size=(3,3), padding='same', kernel_regularizer='l2', activation='relu'))\n",
    "    model.add(layers.BatchNormalization())\n",
    "    model.add(layers.MaxPooling2D((2, 2), strides=(2,2)))\n",
    "    model.add(layers.Dropout(0.3))\n",
    "    #Layer5\n",
    "    model.add(layers.Conv2D(256, kernel_size=(3,3), padding='same', kernel_regularizer='l2', activation='relu'))\n",
    "    model.add(layers.BatchNormalization())\n",
    "    model.add(layers.MaxPooling2D((2, 2), strides=(2,2)))\n",
    "    model.add(layers.Dropout(0.3))\n",
    "    # #Layer6\n",
    "    model.add(layers.Conv2D(256, kernel_size=(3,3), padding='same', kernel_regularizer='l2', activation='relu'))\n",
    "    model.add(layers.BatchNormalization())\n",
    "    model.add(layers.MaxPooling2D((2, 2), strides=(2,2)))\n",
    "    model.add(layers.Dropout(0.3))\n",
    "    #Layer7\n",
    "    model.add(layers.Conv2D(256, kernel_size=(3,3), padding='same', kernel_regularizer='l2', activation='relu'))\n",
    "    model.add(layers.BatchNormalization())\n",
    "    model.add(layers.MaxPooling2D((2, 2), strides=(2,2)))\n",
    "    model.add(layers.Dropout(0.5))\n",
    "    #Output\n",
    "    model.add(layers.Flatten())\n",
    "    model.add(layers.Dense(512, kernel_regularizer='l2', activation='relu'))\n",
    "    model.add(layers.BatchNormalization())\n",
    "    model.add(layers.Dropout(0.5))\n",
    "    model.add(layers.Dense(3, activation='softmax'))\n",
    "\n",
    "    model.compile(optimizers.Adam(learning_rate=0.01), loss='categorical_crossentropy', metrics=['accuracy'])\n",
    "    return model\n",
    "    pass\n",
    "\n",
    "run_evaluation(\"model_1_1\", build_model_1_1, evaluation_split, base_dir, \n",
    "               train=True, epochs=30, batch_size=64)\n",
    "\n",
    "answer_q_1_1 = \"\"\"\n",
    "Seven convolutional layers with activation function Relu. Batch normalization layers make the network converge faster. Output layer with activation function \"softmax\" with 3 output nodes since it is a multi-classification problem with 3 classes. As the model is prone to overfitting, maxpooling and droupout layers are used. Moreover, using a larger learning rate of 0.01, not default 0.001, as well with the optimizer Adam, which yields better results. So, a larger learning rate (less overfitting) and batch size (relative to original) are applied and find suitable epochs for convergence.\n",
    "\"\"\"\n",
    "print(answer_q_1_1)\n",
    "print(\"Answer is {} characters long\".format(len(answer_q_1_1)))"
   ]
  },
  {
   "cell_type": "markdown",
   "metadata": {
    "id": "ldq2X8XpnYWP"
   },
   "source": [
    "### Question 1.2: Data Augmentation (15 points)\n",
    "\n",
    "- Augment the preprocessed training data. You can explore using image shifts, rotations, zooming, flips, color augmentation etc. What works well, and what does not? Reason about what might work or not on these images.\n",
    "- Implement the generator in a function `augment_data` that returns a generator and the validation set\n",
    "- Either use the `build_model_1_1` or design another model in `build_model_1_2`. Evaluate the model  with the augmented data using the 'run_evaluation' function. Store the new trained model as 'model_1_2'. You should be able to get at least 85% validation accuracy.\n",
    "- Add an explanation of your design choices for augmentation techniques in answer_q_1_2.  Also discuss the performance of the model.\n",
    "- You are allowed **600** characters for this answer (but don’t ramble)."
   ]
  },
  {
   "cell_type": "code",
   "execution_count": 117,
   "metadata": {
    "colab": {
     "base_uri": "https://localhost:8080/",
     "height": 1000
    },
    "id": "3Mvd1oO9s9xO",
    "outputId": "238eb5b9-3043-4a4f-ee19-29ccb187d5b5"
   },
   "outputs": [
    {
     "name": "stdout",
     "output_type": "stream",
     "text": [
      "Max val score: 79.37%\n"
     ]
    },
    {
     "data": {
      "image/png": "[encoded data removed]",
      "text/plain": [
       "<Figure size 432x288 with 1 Axes>"
      ]
     },
     "metadata": {
      "needs_background": "light"
     },
     "output_type": "display_data"
    },
    {
     "name": "stdout",
     "output_type": "stream",
     "text": [
      "Model: \"sequential_10\"\n",
      "_________________________________________________________________\n",
      " Layer (type)                Output Shape              Param #   \n",
      "=================================================================\n",
      " conv2d_70 (Conv2D)          (None, 160, 160, 64)      1792      \n",
      "                                                                 \n",
      " batch_normalization_80 (Bat  (None, 160, 160, 64)     256       \n",
      " chNormalization)                                                \n",
      "                                                                 \n",
      " conv2d_71 (Conv2D)          (None, 160, 160, 64)      36928     \n",
      "                                                                 \n",
      " batch_normalization_81 (Bat  (None, 160, 160, 64)     256       \n",
      " chNormalization)                                                \n",
      "                                                                 \n",
      " max_pooling2d_60 (MaxPoolin  (None, 80, 80, 64)       0         \n",
      " g2D)                                                            \n",
      "                                                                 \n",
      " dropout_70 (Dropout)        (None, 80, 80, 64)        0         \n",
      "                                                                 \n",
      " conv2d_72 (Conv2D)          (None, 80, 80, 128)       73856     \n",
      "                                                                 \n",
      " batch_normalization_82 (Bat  (None, 80, 80, 128)      512       \n",
      " chNormalization)                                                \n",
      "                                                                 \n",
      " max_pooling2d_61 (MaxPoolin  (None, 40, 40, 128)      0         \n",
      " g2D)                                                            \n",
      "                                                                 \n",
      " dropout_71 (Dropout)        (None, 40, 40, 128)       0         \n",
      "                                                                 \n",
      " conv2d_73 (Conv2D)          (None, 40, 40, 128)       147584    \n",
      "                                                                 \n",
      " batch_normalization_83 (Bat  (None, 40, 40, 128)      512       \n",
      " chNormalization)                                                \n",
      "                                                                 \n",
      " max_pooling2d_62 (MaxPoolin  (None, 20, 20, 128)      0         \n",
      " g2D)                                                            \n",
      "                                                                 \n",
      " dropout_72 (Dropout)        (None, 20, 20, 128)       0         \n",
      "                                                                 \n",
      " conv2d_74 (Conv2D)          (None, 20, 20, 256)       295168    \n",
      "                                                                 \n",
      " batch_normalization_84 (Bat  (None, 20, 20, 256)      1024      \n",
      " chNormalization)                                                \n",
      "                                                                 \n",
      " max_pooling2d_63 (MaxPoolin  (None, 10, 10, 256)      0         \n",
      " g2D)                                                            \n",
      "                                                                 \n",
      " dropout_73 (Dropout)        (None, 10, 10, 256)       0         \n",
      "                                                                 \n",
      " conv2d_75 (Conv2D)          (None, 10, 10, 256)       590080    \n",
      "                                                                 \n",
      " batch_normalization_85 (Bat  (None, 10, 10, 256)      1024      \n",
      " chNormalization)                                                \n",
      "                                                                 \n",
      " max_pooling2d_64 (MaxPoolin  (None, 5, 5, 256)        0         \n",
      " g2D)                                                            \n",
      "                                                                 \n",
      " dropout_74 (Dropout)        (None, 5, 5, 256)         0         \n",
      "                                                                 \n",
      " conv2d_76 (Conv2D)          (None, 5, 5, 256)         590080    \n",
      "                                                                 \n",
      " batch_normalization_86 (Bat  (None, 5, 5, 256)        1024      \n",
      " chNormalization)                                                \n",
      "                                                                 \n",
      " max_pooling2d_65 (MaxPoolin  (None, 2, 2, 256)        0         \n",
      " g2D)                                                            \n",
      "                                                                 \n",
      " dropout_75 (Dropout)        (None, 2, 2, 256)         0         \n",
      "                                                                 \n",
      " flatten_10 (Flatten)        (None, 1024)              0         \n",
      "                                                                 \n",
      " dense_20 (Dense)            (None, 512)               524800    \n",
      "                                                                 \n",
      " batch_normalization_87 (Bat  (None, 512)              2048      \n",
      " chNormalization)                                                \n",
      "                                                                 \n",
      " dropout_76 (Dropout)        (None, 512)               0         \n",
      "                                                                 \n",
      " dense_21 (Dense)            (None, 3)                 1539      \n",
      "                                                                 \n",
      "=================================================================\n",
      "Total params: 2,268,483\n",
      "Trainable params: 2,265,155\n",
      "Non-trainable params: 3,328\n",
      "_________________________________________________________________\n",
      "None\n",
      "('You must install pydot (`pip install pydot`) and install graphviz (see instructions at https://graphviz.gitlab.io/download/) ', 'for plot_model/model_to_dot to work.')\n",
      "Answer is 537 characters long\n"
     ]
    }
   ],
   "source": [
    "# Note that we build the same untrained model as in question 1.1 but store the \n",
    "# trained version as model_1_2. Change attributes as needed to run on augmented\n",
    "# data\n",
    "from tensorflow.keras.preprocessing.image import ImageDataGenerator\n",
    "\n",
    "def augment_data():\n",
    "    \"\"\" Augments the data and returns a generator and the validation data and labels\n",
    "    \"\"\"\n",
    "    generator = ImageDataGenerator(rotation_range=30, width_shift_range=0.1, height_shift_range=0.2, fill_mode = 'nearest', horizontal_flip=True, zoom_range=0.3).flow(X_train, y_train)\n",
    "    \n",
    "    return generator, X_valid, y_valid\n",
    "\n",
    "def build_model_1_2():\n",
    "    return build_model_1_1() # Replace with a new model if you prefer\n",
    "\n",
    "\n",
    "run_evaluation(\"model_1_2\", build_model_1_2, augment_data(), base_dir, \n",
    "               train=True, generator=True, epochs=15, batch_size=None)\n",
    "\n",
    "answer_q_1_2 = \"\"\"\n",
    "Augments data with rotation, shear, width and height_shift, and zoom range. After testing, the shear_range might destroy the image information as its performance is not good, so we don't use it. Width and Height shift, and zoom range is helpful since they do not destroy the image information, but also with small value as the images' positions are quite different. Moreover, since the vertical_flip might cause confusion, so only horizontal_flip are used, and the rotation_range 30 is the best angle here after testing.\n",
    "               \"\"\"\n",
    "print(\"Answer is {} characters long\".format(len(answer_q_1_2)))"
   ]
  },
  {
   "cell_type": "markdown",
   "metadata": {
    "id": "dJcMXxeCoB4v"
   },
   "source": [
    "## Part 2. Model evaluation (25 points)\n",
    "### Question 2.1: Accuracy on the testing set (5 points)\n",
    "\n",
    "Load the last trained model (`model_1_2`) and use it to predict the classes for the testing set, X_test. Compute the accuracy based on y_test and store it in `test_accuracy_2_1`. You should be able to obtain a testing accuracy of at least 75%."
   ]
  },
  {
   "cell_type": "code",
   "execution_count": 119,
   "metadata": {
    "colab": {
     "base_uri": "https://localhost:8080/"
    },
    "id": "02TylMTRodxn",
    "outputId": "4af05815-6eb7-46c7-ea27-eabe99f5e230"
   },
   "outputs": [
    {
     "name": "stderr",
     "output_type": "stream",
     "text": [
      "2022-04-13 06:37:25.414556: I tensorflow/core/grappler/optimizers/custom_graph_optimizer_registry.cc:112] Plugin optimizer for device_type GPU is enabled.\n"
     ]
    },
    {
     "name": "stdout",
     "output_type": "stream",
     "text": [
      "0.8736559139784946\n"
     ]
    }
   ],
   "source": [
    "from sklearn.metrics import accuracy_score\n",
    "\n",
    "def evaluate_model():\n",
    "    model = load_model_from_file(base_dir, name='model_1_2')\n",
    "    y_pred = model.predict(X_test)\n",
    "    accuracy = accuracy_score(np.argmax(y_test, axis=1),np.argmax(y_pred, axis=1))\n",
    "    \n",
    "    return accuracy\n",
    "    pass\n",
    "test_accuracy_2_1 = evaluate_model()\n",
    "print(test_accuracy_2_1)"
   ]
  },
  {
   "cell_type": "markdown",
   "metadata": {
    "id": "4pUpJLqTo0Q0"
   },
   "source": [
    "### Question 2.2: Confusion matrix (20 points)\n",
    "\n",
    "* Plot the confusion matrix in `plot_confusion_matrix` and discuss which classes are often confused.\n",
    "* Analyze the misclassifications in more depth by visualizing which kinds of mistakes are made for each class (rock, paper and scissors). For instance, are the errors related to the background, noisiness, etc.? Implement the visualization in `plot_misclassifications`. Ideally, plot 5 examples of misclassifications for each class. You can obtain a very good model for some classes, which means it will not make 5 mistakes from the testing set. In this case, we need to plot all the misclassifications for that class.\n",
    "* For `plot_misclassifications`, each missclasified images should have two labels, actual class and predicted class.\n",
    "* Interpret the results and summarize your findings in `answer_q_2`. Focus on explaining why certain images are misclassified. Are they somehow harder or has your model not learned to recognize some occurences in the images? Keep in mind that there are images which are quite similar in the dataset.\n",
    "- You are allowed **600** characters for this answer (but don’t ramble)."
   ]
  },
  {
   "cell_type": "code",
   "execution_count": 120,
   "metadata": {
    "colab": {
     "base_uri": "https://localhost:8080/"
    },
    "id": "9jr0lqAqHzW6",
    "outputId": "ff3d3922-0ee4-495a-b330-ce60bc0c9ab2"
   },
   "outputs": [
    {
     "name": "stderr",
     "output_type": "stream",
     "text": [
      "2022-04-13 06:37:33.160492: I tensorflow/core/grappler/optimizers/custom_graph_optimizer_registry.cc:112] Plugin optimizer for device_type GPU is enabled.\n",
      "2022-04-13 06:37:34.932267: I tensorflow/core/grappler/optimizers/custom_graph_optimizer_registry.cc:112] Plugin optimizer for device_type GPU is enabled.\n"
     ]
    },
    {
     "data": {
      "image/png": "[encoded data removed]",
      "text/plain": [
       "<Figure size 432x288 with 1 Axes>"
      ]
     },
     "metadata": {
      "needs_background": "light"
     },
     "output_type": "display_data"
    },
    {
     "data": {
      "image/png": "[encoded data removed]",
      "text/plain": [
       "<Figure size 720x720 with 15 Axes>"
      ]
     },
     "metadata": {
      "needs_background": "light"
     },
     "output_type": "display_data"
    },
    {
     "name": "stdout",
     "output_type": "stream",
     "text": [
      "Class Scissors is well classified.\n",
      "Answer is 597 characters long\n"
     ]
    }
   ],
   "source": [
    "from sklearn.metrics import confusion_matrix as cm\n",
    "def plot_confusion_matrix():\n",
    "    class_name = ['rock','paper','scissors']\n",
    "    model = load_model_from_file(base_dir, 'model_1_2')\n",
    "    y_pred = model.predict(X_test)\n",
    "    confusion_matrix = cm(np.argmax(y_test, axis=1), np.argmax(y_pred, axis=1))\n",
    "    fig, ax = plt.subplots()\n",
    "    ax.imshow(confusion_matrix)\n",
    "    ax.set_xlabel('Predict')\n",
    "    ax.set_ylabel('Actual')\n",
    "    ax.set_xticks(np.arange(3))\n",
    "    ax.set_yticks(np.arange(3))\n",
    "    ax.set_xticklabels(class_name)\n",
    "    ax.set_yticklabels(class_name)\n",
    "\n",
    "    for i in range(9):\n",
    "        ax.text(int(i/3),i%3,confusion_matrix[i%3,int(i/3)], ha=\"center\", va=\"center\", color=\"w\")\n",
    "    pass\n",
    "def plot_misclassifications():\n",
    "    class_name = ['rock','paper','scissors']\n",
    "    model = load_model_from_file(base_dir, 'model_1_2')\n",
    "    y_pred = model.predict(X_test)\n",
    "    misclassified = np.nonzero(np.argmax(y_test, axis=1) != np.argmax(y_pred, axis=1))[0]\n",
    "    \n",
    "    # Wrong classified\n",
    "    rock_mis = []\n",
    "    paper_mis = []\n",
    "    scissor_mis = []\n",
    "    for i in misclassified:\n",
    "        if np.argmax(y_test[i]) == 0:\n",
    "            rock_mis.append(i)\n",
    "        elif np.argmax(y_test[i]) == 1:\n",
    "            paper_mis.append(i)\n",
    "        else: scissor_mis.append(i)\n",
    "    \n",
    "    fig, axes = plt.subplots(3,5, figsize=(10, 10))\n",
    "    n1=0\n",
    "    n2=0\n",
    "    n3=0\n",
    "    \n",
    "    for i in misclassified:     \n",
    "        if n1 == 5 and n2 == 5 and n3 == 5: break\n",
    "        else:\n",
    "            if np.argmax(y_test[i]) == 0:\n",
    "               # to prevent one is well-classified\n",
    "              if n1 == 5: continue\n",
    "              axes[0][n1].imshow(X_test[i])\n",
    "              axes[0][n1].set_xlabel(\"Predicted: %s, \\n Actual: %s\" % (class_name[np.argmax(y_pred[i])], class_name[np.argmax(y_test[i])]))\n",
    "              axes[0][n1].set_xticks(())\n",
    "              axes[0][n1].set_yticks(())\n",
    "              n1 += 1\n",
    "            elif np.argmax(y_test[i]) == 1:\n",
    "              # to prevent one is well-classified\n",
    "              if n2 == 5: continue\n",
    "              axes[1][n2].imshow(X_test[i])\n",
    "              axes[1][n2].imshow(X_test[i])\n",
    "              axes[1][n2].set_xlabel(\"Predicted: %s, \\n Actual: %s\" % (class_name[np.argmax(y_pred[i])], class_name[np.argmax(y_test[i])]))\n",
    "              axes[1][n2].set_xticks(())\n",
    "              axes[1][n2].set_yticks(())\n",
    "              n2 +=1\n",
    "            else: \n",
    "              # to prevent one is well-classified\n",
    "              if n3 == 5: continue\n",
    "              axes[2][n3].imshow(X_test[i])\n",
    "              axes[2][n3].imshow(X_test[i])\n",
    "              axes[2][n3].set_xlabel(\"Predicted: %s, \\n Actual: %s\" % (class_name[np.argmax(y_pred[i])], class_name[np.argmax(y_test[i])]))\n",
    "              axes[2][n3].set_xticks(())\n",
    "              axes[2][n3].set_yticks(())\n",
    "              n3 += 1\n",
    "    plt.show()\n",
    "    if n1==0:\n",
    "        print('Class Rock is well classified.')\n",
    "    elif n2==0:\n",
    "        print('Class Paper is well classified.')\n",
    "    else: print('Class Scissors is well classified.')\n",
    "    pass\n",
    "\n",
    "plot_confusion_matrix()\n",
    "plot_misclassifications()\n",
    "\n",
    "answer_q_2 = \"\"\"\n",
    "The paper class is the easiest misclassified. It might be due to the similar finger shape to scissors, and stone shape as a rock. Therefore, several models could not predict paper class well, so it is crucial to find good parameters of data augmentation. From the confusion matrix, it is found that the model might fail to learn the features of fingers the most, so it often misclassified paper as scissors. Moreover, as the original image is not always at the center, and the model uses maxpooling, it could miss some features of images, like seeing paper's five fingers as a rock.\n",
    "             \"\"\"\n",
    "print(\"Answer is {} characters long\".format(len(answer_q_2)))"
   ]
  },
  {
   "cell_type": "markdown",
   "metadata": {
    "id": "buQLQ16EypgL"
   },
   "source": [
    "## Part 3. Transfer learning (45 points)\n",
    "### Question 3.1 Transfer learning from MobileNet (25 points)\n",
    "\n",
    "- Import the MobileNetV2 model, pretrained on ImageNet. [See here](https://keras.io/applications/). Only import the convolutional part, not the dense layers.\n",
    "- Implement a function 'build_model_3_1` that adds at least one dense hidden layer and output layer to the convolutional base, and freezes the convolutional base. Add [Global Average Pooling](https://www.tensorflow.org/api_docs/python/tf/keras/layers/GlobalAveragePooling2D) after the convolutional base, right before the dense layer(s). Consider unfreezing the last few convolutional layers, in a systematic way, and evaluate whether that works better. You can also consider adding multiple dense hidden layers and regularization layers.\n",
    "- Train the resulting model on the augmented training data for the 3-class problem.\n",
    "- Evaluate model_3_1 using `run_evaluate`. Store the accuracy on the testing set in `test_accuracy_3_1`. You should be able to obtain a testing accuracy of at least 85%."
   ]
  },
  {
   "cell_type": "code",
   "execution_count": 121,
   "metadata": {
    "colab": {
     "base_uri": "https://localhost:8080/"
    },
    "id": "1vY21PmF7LZM",
    "outputId": "856508c3-2ebe-423d-97a4-0d453cc680f8"
   },
   "outputs": [
    {
     "name": "stdout",
     "output_type": "stream",
     "text": [
      "Max val score: 97.62%\n"
     ]
    },
    {
     "data": {
      "image/png": "[encoded data removed]",
      "text/plain": [
       "<Figure size 432x288 with 1 Axes>"
      ]
     },
     "metadata": {
      "needs_background": "light"
     },
     "output_type": "display_data"
    },
    {
     "name": "stdout",
     "output_type": "stream",
     "text": [
      "Model: \"sequential_12\"\n",
      "_________________________________________________________________\n",
      " Layer (type)                Output Shape              Param #   \n",
      "=================================================================\n",
      " mobilenetv2_1.00_160 (Funct  (None, 5, 5, 1280)       2257984   \n",
      " ional)                                                          \n",
      "                                                                 \n",
      " batch_normalization_75 (Bat  (None, 5, 5, 1280)       5120      \n",
      " chNormalization)                                                \n",
      "                                                                 \n",
      " global_average_pooling2d (G  (None, 1280)             0         \n",
      " lobalAveragePooling2D)                                          \n",
      "                                                                 \n",
      " dropout_65 (Dropout)        (None, 1280)              0         \n",
      "                                                                 \n",
      " dense_24 (Dense)            (None, 256)               327936    \n",
      "                                                                 \n",
      " batch_normalization_76 (Bat  (None, 256)              1024      \n",
      " chNormalization)                                                \n",
      "                                                                 \n",
      " dropout_66 (Dropout)        (None, 256)               0         \n",
      "                                                                 \n",
      " dense_25 (Dense)            (None, 3)                 771       \n",
      "                                                                 \n",
      "=================================================================\n",
      "Total params: 2,592,835\n",
      "Trainable params: 331,779\n",
      "Non-trainable params: 2,261,056\n",
      "_________________________________________________________________\n",
      "None\n",
      "('You must install pydot (`pip install pydot`) and install graphviz (see instructions at https://graphviz.gitlab.io/download/) ', 'for plot_model/model_to_dot to work.')\n",
      "None\n"
     ]
    }
   ],
   "source": [
    "from tensorflow.keras.preprocessing.image import ImageDataGenerator\n",
    "from tensorflow.keras.applications import MobileNetV2\n",
    "from keras import regularizers\n",
    "from tensorflow.keras import optimizers\n",
    "from tensorflow.keras import models\n",
    "from tensorflow.keras import layers \n",
    "    \n",
    "# Load ImageNet pre-trained MobileNetV2\n",
    "conv_base = None\n",
    "\n",
    "def build_model_3_1():\n",
    "    conv_base = MobileNetV2(input_shape = IMG_SHAPE, include_top=False)\n",
    "\n",
    "    conv_base.trainable = False\n",
    "    # unfreeze the last block, using the index of the last block, but the result is not better that much\n",
    "    # unfreeze = 142\n",
    "    # for n, layer in enumerate(conv_base.layers):\n",
    "        # layer.trainable = unfreeze < n\n",
    "        \n",
    "    model = models.Sequential()\n",
    "    model.add(conv_base)\n",
    "    \n",
    "    model.add(layers.BatchNormalization())\n",
    "    model.add(layers.GlobalAveragePooling2D())\n",
    "    model.add(layers.Dropout(0.3))\n",
    "    model.add(layers.Dense(256, kernel_regularizer='l2', activation='relu'))\n",
    "    model.add(layers.BatchNormalization())\n",
    "    model.add(layers.Dropout(0.5))\n",
    "    model.add(layers.Dense(3, activation='softmax'))\n",
    "    model.compile(optimizers.Adam(learning_rate=0.01), loss='categorical_crossentropy', metrics=['accuracy'])\n",
    "\n",
    "    return model\n",
    "    pass\n",
    "\n",
    "run_evaluation(\"model_3_1\", build_model_3_1, augment_data(), base_dir, \n",
    "               train=True, generator=True, epochs=3, batch_size=None)\n",
    "\n",
    "test_accuracy_3_1 = None\n",
    "print(test_accuracy_3_1)"
   ]
  },
  {
   "cell_type": "markdown",
   "metadata": {
    "id": "PpF-gvH_QhYX"
   },
   "source": [
    "### Question 3.2: Visualizing the learned embeddings with tSNE (20 points)\n",
    "\n",
    "Extract the learned embeddings of the images from X_train using your `model_3_1` and plot them on a 2D map using [tSNE](https://lvdmaaten.github.io/tsne/) as the dimensionality reduction technique.\n",
    "\n",
    "\n",
    "- Implement a function `create_embeddings` to extract the n-sized embeddings based on the  Convolutional part of `model_3_1` (e.g MobileNetV2 generates 1280-sized embeddings). The embeddings are the output of the GlobalAveragePooling layer.\n",
    "- Implement a function `compute_tsne` that applies scikit-learn's implementation of [tSNE](https://scikit-learn.org/stable/modules/generated/sklearn.manifold.TSNE.html) to reduce the size of the embeddings from n to 2 (e.g for MobileNetV2 this will mean `original_array` of  size (num_images, 1280) compressed to a reduced array of size (num_images, 2))\n",
    "- Implement a function `plot_tsne` that plots the 2D vector on a map highlighting the formed clusters, and color-coded by the true labels\n",
    "- Intrepret the 2D TSNE map in terms of the formed clusters. Talk about the performance of the transfer learning model. Store your answer in `answer_q_3`. \n",
    "- You are allowed **600** characters for this answer (but don’t ramble)."
   ]
  },
  {
   "cell_type": "code",
   "execution_count": 122,
   "metadata": {
    "id": "2Y5hn2TTf3a1"
   },
   "outputs": [
    {
     "name": "stderr",
     "output_type": "stream",
     "text": [
      "2022-04-13 06:38:05.197761: I tensorflow/core/grappler/optimizers/custom_graph_optimizer_registry.cc:112] Plugin optimizer for device_type GPU is enabled.\n",
      "/Users/yabee/miniforge3/envs/env_tf/lib/python3.9/site-packages/sklearn/manifold/_t_sne.py:780: FutureWarning: The default initialization in TSNE will change from 'random' to 'pca' in 1.2.\n",
      "  warnings.warn(\n",
      "/Users/yabee/miniforge3/envs/env_tf/lib/python3.9/site-packages/sklearn/manifold/_t_sne.py:790: FutureWarning: The default learning rate in TSNE will change from 200.0 to 'auto' in 1.2.\n",
      "  warnings.warn(\n"
     ]
    }
   ],
   "source": [
    "from sklearn.manifold import TSNE\n",
    "from tensorflow.keras import Model\n",
    "from tensorflow.keras.layers import Embedding\n",
    "\n",
    "def create_embeddings(model_file):\n",
    "    \"\"\" Returns the image embeddings of X_train learned in the given model\n",
    "    \"\"\"\n",
    "    model = load_model_from_file(base_dir, model_file)\n",
    "    layer_name = 'GlobalAveragePooling2D'\n",
    "    for layer in model.layers:\n",
    "        if layer.__class__.__name__ == layer_name:\n",
    "            output = layer.output\n",
    "    model = Model(model.inputs, output)\n",
    "    embedding = model.predict(X_train)\n",
    "    # embedding.reshape(embedding.shape[0], -1)\n",
    "  \n",
    "    return embedding\n",
    "\n",
    "def compute_tsne(original_array):\n",
    "    \"\"\" Returns the 2D embeddings of original_array created by TSNE\n",
    "    \"\"\"\n",
    "    tsne_model = TSNE(perplexity=50, n_components=2, n_iter=1000).fit_transform(original_array)\n",
    "   \n",
    "    return tsne_model\n",
    "\n",
    "dn_embs = create_embeddings(\"model_3_1\")\n",
    "d2_embs = compute_tsne(dn_embs)"
   ]
  },
  {
   "cell_type": "code",
   "execution_count": 123,
   "metadata": {
    "colab": {
     "base_uri": "https://localhost:8080/"
    },
    "id": "KwBwEHTdhmy2",
    "outputId": "2cdfac5f-9054-4ec9-fd08-7923efc19556"
   },
   "outputs": [
    {
     "data": {
      "image/png": "[encoded data removed]",
      "text/plain": [
       "<Figure size 720x576 with 2 Axes>"
      ]
     },
     "metadata": {
      "needs_background": "light"
     },
     "output_type": "display_data"
    },
    {
     "name": "stdout",
     "output_type": "stream",
     "text": [
      "Answer is 543 characters long\n"
     ]
    }
   ],
   "source": [
    "import seaborn as sns\n",
    "import matplotlib\n",
    "\n",
    "def plot_tsne(tsne_embeds, labels):\n",
    "\n",
    "    x = [embed[0] for embed in tsne_embeds]\n",
    "    y = [embed[1] for embed in tsne_embeds]\n",
    "  \n",
    "    plt.figure(figsize=(10, 8))\n",
    "\n",
    "    tsne_plot = plt.scatter(x, y, c=labels)\n",
    "    plt.colorbar(tsne_plot)\n",
    "    plt.show()\n",
    "    pass\n",
    "\n",
    "plot_tsne(d2_embs, y_train)\n",
    "\n",
    "answer_q_3 = \"\"\"\n",
    "             The use of a pre-trained model works quite well. After trying to unfreeze the last layers, the layers after block_15_add, and training with additional hidden layers, there is no big improvement in the performance, and the speed is also slower. Therefore, since applying the mobileNetV2 convolutional layers can work well in a few epochs, we do not must have to increase unfreeze its layers. Moreover, from the plot, we can also see the accuracy of classification is quite well, only a few points are misclassified. \n",
    "             \"\"\"\n",
    "print(\"Answer is {} characters long\".format(len(answer_q_3)))"
   ]
  }
 ],
 "metadata": {
  "accelerator": "GPU",
  "anaconda-cloud": {},
  "colab": {
   "collapsed_sections": [],
   "name": "New Assignment 3 - Model Solution.ipynb",
   "provenance": []
  },
  "kernelspec": {
   "display_name": "Python 3 (ipykernel)",
   "language": "python",
   "name": "python3"
  },
  "language_info": {
   "codemirror_mode": {
    "name": "ipython",
    "version": 3
   },
   "file_extension": ".py",
   "mimetype": "text/x-python",
   "name": "python",
   "nbconvert_exporter": "python",
   "pygments_lexer": "ipython3",
   "version": "3.9.10"
  },
  "widgets": {
   "application/vnd.jupyter.widget-state+json": {
    "04280525950f450dae954981b4424344": {
     "model_module": "@jupyter-widgets/base",
     "model_module_version": "1.2.0",
     "model_name": "LayoutModel",
     "state": {
      "_model_module": "@jupyter-widgets/base",
      "_model_module_version": "1.2.0",
      "_model_name": "LayoutModel",
      "_view_count": null,
      "_view_module": "@jupyter-widgets/base",
      "_view_module_version": "1.2.0",
      "_view_name": "LayoutView",
      "align_content": null,
      "align_items": null,
      "align_self": null,
      "border": null,
      "bottom": null,
      "display": null,
      "flex": null,
      "flex_flow": null,
      "grid_area": null,
      "grid_auto_columns": null,
      "grid_auto_flow": null,
      "grid_auto_rows": null,
      "grid_column": null,
      "grid_gap": null,
      "grid_row": null,
      "grid_template_areas": null,
      "grid_template_columns": null,
      "grid_template_rows": null,
      "height": null,
      "justify_content": null,
      "justify_items": null,
      "left": null,
      "margin": null,
      "max_height": null,
      "max_width": null,
      "min_height": null,
      "min_width": null,
      "object_fit": null,
      "object_position": null,
      "order": null,
      "overflow": null,
      "overflow_x": null,
      "overflow_y": null,
      "padding": null,
      "right": null,
      "top": null,
      "visibility": null,
      "width": null
     }
    },
    "0aec2738489b40319af475967e744015": {
     "model_module": "@jupyter-widgets/controls",
     "model_module_version": "1.5.0",
     "model_name": "HBoxModel",
     "state": {
      "_dom_classes": [],
      "_model_module": "@jupyter-widgets/controls",
      "_model_module_version": "1.5.0",
      "_model_name": "HBoxModel",
      "_view_count": null,
      "_view_module": "@jupyter-widgets/controls",
      "_view_module_version": "1.5.0",
      "_view_name": "HBoxView",
      "box_style": "",
      "children": [
       "IPY_MODEL_ac405f8086d84afc90bc9c99122bb379",
       "IPY_MODEL_fbd9b2e93a7b4fcd83d89447698ac456",
       "IPY_MODEL_e51b077c9b6b4edab0ee82167c9f014a"
      ],
      "layout": "IPY_MODEL_7f71525fe79945e3970b73a59494175e"
     }
    },
    "0e49f6cacd39432393ee0d0c7f27122f": {
     "model_module": "@jupyter-widgets/base",
     "model_module_version": "1.2.0",
     "model_name": "LayoutModel",
     "state": {
      "_model_module": "@jupyter-widgets/base",
      "_model_module_version": "1.2.0",
      "_model_name": "LayoutModel",
      "_view_count": null,
      "_view_module": "@jupyter-widgets/base",
      "_view_module_version": "1.2.0",
      "_view_name": "LayoutView",
      "align_content": null,
      "align_items": null,
      "align_self": null,
      "border": null,
      "bottom": null,
      "display": null,
      "flex": null,
      "flex_flow": null,
      "grid_area": null,
      "grid_auto_columns": null,
      "grid_auto_flow": null,
      "grid_auto_rows": null,
      "grid_column": null,
      "grid_gap": null,
      "grid_row": null,
      "grid_template_areas": null,
      "grid_template_columns": null,
      "grid_template_rows": null,
      "height": null,
      "justify_content": null,
      "justify_items": null,
      "left": null,
      "margin": null,
      "max_height": null,
      "max_width": null,
      "min_height": null,
      "min_width": null,
      "object_fit": null,
      "object_position": null,
      "order": null,
      "overflow": null,
      "overflow_x": null,
      "overflow_y": null,
      "padding": null,
      "right": null,
      "top": null,
      "visibility": null,
      "width": null
     }
    },
    "105030aaec114b2eb731f9d48777a419": {
     "model_module": "@jupyter-widgets/controls",
     "model_module_version": "1.5.0",
     "model_name": "DescriptionStyleModel",
     "state": {
      "_model_module": "@jupyter-widgets/controls",
      "_model_module_version": "1.5.0",
      "_model_name": "DescriptionStyleModel",
      "_view_count": null,
      "_view_module": "@jupyter-widgets/base",
      "_view_module_version": "1.2.0",
      "_view_name": "StyleView",
      "description_width": ""
     }
    },
    "13bd36370fd04c60bff7b3431c545302": {
     "model_module": "@jupyter-widgets/controls",
     "model_module_version": "1.5.0",
     "model_name": "HBoxModel",
     "state": {
      "_dom_classes": [],
      "_model_module": "@jupyter-widgets/controls",
      "_model_module_version": "1.5.0",
      "_model_name": "HBoxModel",
      "_view_count": null,
      "_view_module": "@jupyter-widgets/controls",
      "_view_module_version": "1.5.0",
      "_view_name": "HBoxView",
      "box_style": "",
      "children": [
       "IPY_MODEL_806c0ef2eb374689b90a1d26ce09cf61",
       "IPY_MODEL_7cc65a7325144fef8534ead6c1610720",
       "IPY_MODEL_ccc93910df5646ba9f89e24ef9cfe616"
      ],
      "layout": "IPY_MODEL_0e49f6cacd39432393ee0d0c7f27122f"
     }
    },
    "18eda5043abc49339d16c813757050fe": {
     "model_module": "@jupyter-widgets/controls",
     "model_module_version": "1.5.0",
     "model_name": "DescriptionStyleModel",
     "state": {
      "_model_module": "@jupyter-widgets/controls",
      "_model_module_version": "1.5.0",
      "_model_name": "DescriptionStyleModel",
      "_view_count": null,
      "_view_module": "@jupyter-widgets/base",
      "_view_module_version": "1.2.0",
      "_view_name": "StyleView",
      "description_width": ""
     }
    },
    "1a0c78146a404cffa281af9819ca177f": {
     "model_module": "@jupyter-widgets/base",
     "model_module_version": "1.2.0",
     "model_name": "LayoutModel",
     "state": {
      "_model_module": "@jupyter-widgets/base",
      "_model_module_version": "1.2.0",
      "_model_name": "LayoutModel",
      "_view_count": null,
      "_view_module": "@jupyter-widgets/base",
      "_view_module_version": "1.2.0",
      "_view_name": "LayoutView",
      "align_content": null,
      "align_items": null,
      "align_self": null,
      "border": null,
      "bottom": null,
      "display": null,
      "flex": null,
      "flex_flow": null,
      "grid_area": null,
      "grid_auto_columns": null,
      "grid_auto_flow": null,
      "grid_auto_rows": null,
      "grid_column": null,
      "grid_gap": null,
      "grid_row": null,
      "grid_template_areas": null,
      "grid_template_columns": null,
      "grid_template_rows": null,
      "height": null,
      "justify_content": null,
      "justify_items": null,
      "left": null,
      "margin": null,
      "max_height": null,
      "max_width": null,
      "min_height": null,
      "min_width": null,
      "object_fit": null,
      "object_position": null,
      "order": null,
      "overflow": null,
      "overflow_x": null,
      "overflow_y": null,
      "padding": null,
      "right": null,
      "top": null,
      "visibility": null,
      "width": null
     }
    },
    "1ac88ca3eb604a78b7048e977c8d4e1b": {
     "model_module": "@jupyter-widgets/controls",
     "model_module_version": "1.5.0",
     "model_name": "ProgressStyleModel",
     "state": {
      "_model_module": "@jupyter-widgets/controls",
      "_model_module_version": "1.5.0",
      "_model_name": "ProgressStyleModel",
      "_view_count": null,
      "_view_module": "@jupyter-widgets/base",
      "_view_module_version": "1.2.0",
      "_view_name": "StyleView",
      "bar_color": null,
      "description_width": ""
     }
    },
    "2718f79d354441e1aada52ff950575aa": {
     "model_module": "@jupyter-widgets/controls",
     "model_module_version": "1.5.0",
     "model_name": "DescriptionStyleModel",
     "state": {
      "_model_module": "@jupyter-widgets/controls",
      "_model_module_version": "1.5.0",
      "_model_name": "DescriptionStyleModel",
      "_view_count": null,
      "_view_module": "@jupyter-widgets/base",
      "_view_module_version": "1.2.0",
      "_view_name": "StyleView",
      "description_width": ""
     }
    },
    "35d65306ce79486abf33bf8937e9a43c": {
     "model_module": "@jupyter-widgets/base",
     "model_module_version": "1.2.0",
     "model_name": "LayoutModel",
     "state": {
      "_model_module": "@jupyter-widgets/base",
      "_model_module_version": "1.2.0",
      "_model_name": "LayoutModel",
      "_view_count": null,
      "_view_module": "@jupyter-widgets/base",
      "_view_module_version": "1.2.0",
      "_view_name": "LayoutView",
      "align_content": null,
      "align_items": null,
      "align_self": null,
      "border": null,
      "bottom": null,
      "display": null,
      "flex": null,
      "flex_flow": null,
      "grid_area": null,
      "grid_auto_columns": null,
      "grid_auto_flow": null,
      "grid_auto_rows": null,
      "grid_column": null,
      "grid_gap": null,
      "grid_row": null,
      "grid_template_areas": null,
      "grid_template_columns": null,
      "grid_template_rows": null,
      "height": null,
      "justify_content": null,
      "justify_items": null,
      "left": null,
      "margin": null,
      "max_height": null,
      "max_width": null,
      "min_height": null,
      "min_width": null,
      "object_fit": null,
      "object_position": null,
      "order": null,
      "overflow": null,
      "overflow_x": null,
      "overflow_y": null,
      "padding": null,
      "right": null,
      "top": null,
      "visibility": null,
      "width": null
     }
    },
    "39b7030d6b98439bafeea3e13d3e7863": {
     "model_module": "@jupyter-widgets/base",
     "model_module_version": "1.2.0",
     "model_name": "LayoutModel",
     "state": {
      "_model_module": "@jupyter-widgets/base",
      "_model_module_version": "1.2.0",
      "_model_name": "LayoutModel",
      "_view_count": null,
      "_view_module": "@jupyter-widgets/base",
      "_view_module_version": "1.2.0",
      "_view_name": "LayoutView",
      "align_content": null,
      "align_items": null,
      "align_self": null,
      "border": null,
      "bottom": null,
      "display": null,
      "flex": null,
      "flex_flow": null,
      "grid_area": null,
      "grid_auto_columns": null,
      "grid_auto_flow": null,
      "grid_auto_rows": null,
      "grid_column": null,
      "grid_gap": null,
      "grid_row": null,
      "grid_template_areas": null,
      "grid_template_columns": null,
      "grid_template_rows": null,
      "height": null,
      "justify_content": null,
      "justify_items": null,
      "left": null,
      "margin": null,
      "max_height": null,
      "max_width": null,
      "min_height": null,
      "min_width": null,
      "object_fit": null,
      "object_position": null,
      "order": null,
      "overflow": null,
      "overflow_x": null,
      "overflow_y": null,
      "padding": null,
      "right": null,
      "top": null,
      "visibility": null,
      "width": null
     }
    },
    "4c3b3f9ed85a4d21ba0ca9862bdb969b": {
     "model_module": "@jupyter-widgets/controls",
     "model_module_version": "1.5.0",
     "model_name": "DescriptionStyleModel",
     "state": {
      "_model_module": "@jupyter-widgets/controls",
      "_model_module_version": "1.5.0",
      "_model_name": "DescriptionStyleModel",
      "_view_count": null,
      "_view_module": "@jupyter-widgets/base",
      "_view_module_version": "1.2.0",
      "_view_name": "StyleView",
      "description_width": ""
     }
    },
    "4d9436cc11844fa6b211f411d5a61b5d": {
     "model_module": "@jupyter-widgets/controls",
     "model_module_version": "1.5.0",
     "model_name": "FloatProgressModel",
     "state": {
      "_dom_classes": [],
      "_model_module": "@jupyter-widgets/controls",
      "_model_module_version": "1.5.0",
      "_model_name": "FloatProgressModel",
      "_view_count": null,
      "_view_module": "@jupyter-widgets/controls",
      "_view_module_version": "1.5.0",
      "_view_name": "ProgressView",
      "bar_style": "info",
      "description": "",
      "description_tooltip": null,
      "layout": "IPY_MODEL_57cc23555aa94bcf80b06fc855655f9b",
      "max": 1,
      "min": 0,
      "orientation": "horizontal",
      "style": "IPY_MODEL_e5e450f65aa241bb8c8b82aecad657b6",
      "value": 1
     }
    },
    "5050fb25cc99401fb356f0b0bcc28cf3": {
     "model_module": "@jupyter-widgets/base",
     "model_module_version": "1.2.0",
     "model_name": "LayoutModel",
     "state": {
      "_model_module": "@jupyter-widgets/base",
      "_model_module_version": "1.2.0",
      "_model_name": "LayoutModel",
      "_view_count": null,
      "_view_module": "@jupyter-widgets/base",
      "_view_module_version": "1.2.0",
      "_view_name": "LayoutView",
      "align_content": null,
      "align_items": null,
      "align_self": null,
      "border": null,
      "bottom": null,
      "display": null,
      "flex": null,
      "flex_flow": null,
      "grid_area": null,
      "grid_auto_columns": null,
      "grid_auto_flow": null,
      "grid_auto_rows": null,
      "grid_column": null,
      "grid_gap": null,
      "grid_row": null,
      "grid_template_areas": null,
      "grid_template_columns": null,
      "grid_template_rows": null,
      "height": null,
      "justify_content": null,
      "justify_items": null,
      "left": null,
      "margin": null,
      "max_height": null,
      "max_width": null,
      "min_height": null,
      "min_width": null,
      "object_fit": null,
      "object_position": null,
      "order": null,
      "overflow": null,
      "overflow_x": null,
      "overflow_y": null,
      "padding": null,
      "right": null,
      "top": null,
      "visibility": null,
      "width": null
     }
    },
    "5114ce0414b146608aa01a1cc4aba56e": {
     "model_module": "@jupyter-widgets/base",
     "model_module_version": "1.2.0",
     "model_name": "LayoutModel",
     "state": {
      "_model_module": "@jupyter-widgets/base",
      "_model_module_version": "1.2.0",
      "_model_name": "LayoutModel",
      "_view_count": null,
      "_view_module": "@jupyter-widgets/base",
      "_view_module_version": "1.2.0",
      "_view_name": "LayoutView",
      "align_content": null,
      "align_items": null,
      "align_self": null,
      "border": null,
      "bottom": null,
      "display": null,
      "flex": null,
      "flex_flow": null,
      "grid_area": null,
      "grid_auto_columns": null,
      "grid_auto_flow": null,
      "grid_auto_rows": null,
      "grid_column": null,
      "grid_gap": null,
      "grid_row": null,
      "grid_template_areas": null,
      "grid_template_columns": null,
      "grid_template_rows": null,
      "height": null,
      "justify_content": null,
      "justify_items": null,
      "left": null,
      "margin": null,
      "max_height": null,
      "max_width": null,
      "min_height": null,
      "min_width": null,
      "object_fit": null,
      "object_position": null,
      "order": null,
      "overflow": null,
      "overflow_x": null,
      "overflow_y": null,
      "padding": null,
      "right": null,
      "top": null,
      "visibility": null,
      "width": null
     }
    },
    "51177a0318654c218b5c0aceec974353": {
     "model_module": "@jupyter-widgets/base",
     "model_module_version": "1.2.0",
     "model_name": "LayoutModel",
     "state": {
      "_model_module": "@jupyter-widgets/base",
      "_model_module_version": "1.2.0",
      "_model_name": "LayoutModel",
      "_view_count": null,
      "_view_module": "@jupyter-widgets/base",
      "_view_module_version": "1.2.0",
      "_view_name": "LayoutView",
      "align_content": null,
      "align_items": null,
      "align_self": null,
      "border": null,
      "bottom": null,
      "display": null,
      "flex": null,
      "flex_flow": null,
      "grid_area": null,
      "grid_auto_columns": null,
      "grid_auto_flow": null,
      "grid_auto_rows": null,
      "grid_column": null,
      "grid_gap": null,
      "grid_row": null,
      "grid_template_areas": null,
      "grid_template_columns": null,
      "grid_template_rows": null,
      "height": null,
      "justify_content": null,
      "justify_items": null,
      "left": null,
      "margin": null,
      "max_height": null,
      "max_width": null,
      "min_height": null,
      "min_width": null,
      "object_fit": null,
      "object_position": null,
      "order": null,
      "overflow": null,
      "overflow_x": null,
      "overflow_y": null,
      "padding": null,
      "right": null,
      "top": null,
      "visibility": null,
      "width": "20px"
     }
    },
    "5342b26a17e944a0b9ac2f634c2eccb4": {
     "model_module": "@jupyter-widgets/controls",
     "model_module_version": "1.5.0",
     "model_name": "DescriptionStyleModel",
     "state": {
      "_model_module": "@jupyter-widgets/controls",
      "_model_module_version": "1.5.0",
      "_model_name": "DescriptionStyleModel",
      "_view_count": null,
      "_view_module": "@jupyter-widgets/base",
      "_view_module_version": "1.2.0",
      "_view_name": "StyleView",
      "description_width": ""
     }
    },
    "564cda3f0da646229b604e2326c13cec": {
     "model_module": "@jupyter-widgets/controls",
     "model_module_version": "1.5.0",
     "model_name": "HBoxModel",
     "state": {
      "_dom_classes": [],
      "_model_module": "@jupyter-widgets/controls",
      "_model_module_version": "1.5.0",
      "_model_name": "HBoxModel",
      "_view_count": null,
      "_view_module": "@jupyter-widgets/controls",
      "_view_module_version": "1.5.0",
      "_view_name": "HBoxView",
      "box_style": "",
      "children": [
       "IPY_MODEL_61794be8a1914b389a9f57eea74a78e8",
       "IPY_MODEL_942c2d7530bd4834895a2dd69cd0985e",
       "IPY_MODEL_5a82486c3424441e9c647d30359564cf"
      ],
      "layout": "IPY_MODEL_35d65306ce79486abf33bf8937e9a43c"
     }
    },
    "5729c25817aa438bbe5a1642912ae559": {
     "model_module": "@jupyter-widgets/base",
     "model_module_version": "1.2.0",
     "model_name": "LayoutModel",
     "state": {
      "_model_module": "@jupyter-widgets/base",
      "_model_module_version": "1.2.0",
      "_model_name": "LayoutModel",
      "_view_count": null,
      "_view_module": "@jupyter-widgets/base",
      "_view_module_version": "1.2.0",
      "_view_name": "LayoutView",
      "align_content": null,
      "align_items": null,
      "align_self": null,
      "border": null,
      "bottom": null,
      "display": null,
      "flex": null,
      "flex_flow": null,
      "grid_area": null,
      "grid_auto_columns": null,
      "grid_auto_flow": null,
      "grid_auto_rows": null,
      "grid_column": null,
      "grid_gap": null,
      "grid_row": null,
      "grid_template_areas": null,
      "grid_template_columns": null,
      "grid_template_rows": null,
      "height": null,
      "justify_content": null,
      "justify_items": null,
      "left": null,
      "margin": null,
      "max_height": null,
      "max_width": null,
      "min_height": null,
      "min_width": null,
      "object_fit": null,
      "object_position": null,
      "order": null,
      "overflow": null,
      "overflow_x": null,
      "overflow_y": null,
      "padding": null,
      "right": null,
      "top": null,
      "visibility": null,
      "width": null
     }
    },
    "5790c4ea76e94a6da52aaa120b0efea5": {
     "model_module": "@jupyter-widgets/controls",
     "model_module_version": "1.5.0",
     "model_name": "DescriptionStyleModel",
     "state": {
      "_model_module": "@jupyter-widgets/controls",
      "_model_module_version": "1.5.0",
      "_model_name": "DescriptionStyleModel",
      "_view_count": null,
      "_view_module": "@jupyter-widgets/base",
      "_view_module_version": "1.2.0",
      "_view_name": "StyleView",
      "description_width": ""
     }
    },
    "57cc23555aa94bcf80b06fc855655f9b": {
     "model_module": "@jupyter-widgets/base",
     "model_module_version": "1.2.0",
     "model_name": "LayoutModel",
     "state": {
      "_model_module": "@jupyter-widgets/base",
      "_model_module_version": "1.2.0",
      "_model_name": "LayoutModel",
      "_view_count": null,
      "_view_module": "@jupyter-widgets/base",
      "_view_module_version": "1.2.0",
      "_view_name": "LayoutView",
      "align_content": null,
      "align_items": null,
      "align_self": null,
      "border": null,
      "bottom": null,
      "display": null,
      "flex": null,
      "flex_flow": null,
      "grid_area": null,
      "grid_auto_columns": null,
      "grid_auto_flow": null,
      "grid_auto_rows": null,
      "grid_column": null,
      "grid_gap": null,
      "grid_row": null,
      "grid_template_areas": null,
      "grid_template_columns": null,
      "grid_template_rows": null,
      "height": null,
      "justify_content": null,
      "justify_items": null,
      "left": null,
      "margin": null,
      "max_height": null,
      "max_width": null,
      "min_height": null,
      "min_width": null,
      "object_fit": null,
      "object_position": null,
      "order": null,
      "overflow": null,
      "overflow_x": null,
      "overflow_y": null,
      "padding": null,
      "right": null,
      "top": null,
      "visibility": null,
      "width": "20px"
     }
    },
    "58c439c4d54d4dab8dd0585bf825f287": {
     "model_module": "@jupyter-widgets/base",
     "model_module_version": "1.2.0",
     "model_name": "LayoutModel",
     "state": {
      "_model_module": "@jupyter-widgets/base",
      "_model_module_version": "1.2.0",
      "_model_name": "LayoutModel",
      "_view_count": null,
      "_view_module": "@jupyter-widgets/base",
      "_view_module_version": "1.2.0",
      "_view_name": "LayoutView",
      "align_content": null,
      "align_items": null,
      "align_self": null,
      "border": null,
      "bottom": null,
      "display": null,
      "flex": null,
      "flex_flow": null,
      "grid_area": null,
      "grid_auto_columns": null,
      "grid_auto_flow": null,
      "grid_auto_rows": null,
      "grid_column": null,
      "grid_gap": null,
      "grid_row": null,
      "grid_template_areas": null,
      "grid_template_columns": null,
      "grid_template_rows": null,
      "height": null,
      "justify_content": null,
      "justify_items": null,
      "left": null,
      "margin": null,
      "max_height": null,
      "max_width": null,
      "min_height": null,
      "min_width": null,
      "object_fit": null,
      "object_position": null,
      "order": null,
      "overflow": null,
      "overflow_x": null,
      "overflow_y": null,
      "padding": null,
      "right": null,
      "top": null,
      "visibility": null,
      "width": "20px"
     }
    },
    "5a82486c3424441e9c647d30359564cf": {
     "model_module": "@jupyter-widgets/controls",
     "model_module_version": "1.5.0",
     "model_name": "HTMLModel",
     "state": {
      "_dom_classes": [],
      "_model_module": "@jupyter-widgets/controls",
      "_model_module_version": "1.5.0",
      "_model_name": "HTMLModel",
      "_view_count": null,
      "_view_module": "@jupyter-widgets/controls",
      "_view_module_version": "1.5.0",
      "_view_name": "HTMLView",
      "description": "",
      "description_tooltip": null,
      "layout": "IPY_MODEL_d5d96731fc2549d9bc4e14f84662d2a5",
      "placeholder": "​",
      "style": "IPY_MODEL_6ce79242428d42f6be5ba6090879013f",
      "value": " 2519/2520 [00:00&lt;00:00, 4108.64 examples/s]"
     }
    },
    "5bd39289efca4efeae241abb9b7983fd": {
     "model_module": "@jupyter-widgets/base",
     "model_module_version": "1.2.0",
     "model_name": "LayoutModel",
     "state": {
      "_model_module": "@jupyter-widgets/base",
      "_model_module_version": "1.2.0",
      "_model_name": "LayoutModel",
      "_view_count": null,
      "_view_module": "@jupyter-widgets/base",
      "_view_module_version": "1.2.0",
      "_view_name": "LayoutView",
      "align_content": null,
      "align_items": null,
      "align_self": null,
      "border": null,
      "bottom": null,
      "display": null,
      "flex": null,
      "flex_flow": null,
      "grid_area": null,
      "grid_auto_columns": null,
      "grid_auto_flow": null,
      "grid_auto_rows": null,
      "grid_column": null,
      "grid_gap": null,
      "grid_row": null,
      "grid_template_areas": null,
      "grid_template_columns": null,
      "grid_template_rows": null,
      "height": null,
      "justify_content": null,
      "justify_items": null,
      "left": null,
      "margin": null,
      "max_height": null,
      "max_width": null,
      "min_height": null,
      "min_width": null,
      "object_fit": null,
      "object_position": null,
      "order": null,
      "overflow": null,
      "overflow_x": null,
      "overflow_y": null,
      "padding": null,
      "right": null,
      "top": null,
      "visibility": null,
      "width": null
     }
    },
    "5dde86dbb9f74f24aca6c05dbaf246c5": {
     "model_module": "@jupyter-widgets/base",
     "model_module_version": "1.2.0",
     "model_name": "LayoutModel",
     "state": {
      "_model_module": "@jupyter-widgets/base",
      "_model_module_version": "1.2.0",
      "_model_name": "LayoutModel",
      "_view_count": null,
      "_view_module": "@jupyter-widgets/base",
      "_view_module_version": "1.2.0",
      "_view_name": "LayoutView",
      "align_content": null,
      "align_items": null,
      "align_self": null,
      "border": null,
      "bottom": null,
      "display": null,
      "flex": null,
      "flex_flow": null,
      "grid_area": null,
      "grid_auto_columns": null,
      "grid_auto_flow": null,
      "grid_auto_rows": null,
      "grid_column": null,
      "grid_gap": null,
      "grid_row": null,
      "grid_template_areas": null,
      "grid_template_columns": null,
      "grid_template_rows": null,
      "height": null,
      "justify_content": null,
      "justify_items": null,
      "left": null,
      "margin": null,
      "max_height": null,
      "max_width": null,
      "min_height": null,
      "min_width": null,
      "object_fit": null,
      "object_position": null,
      "order": null,
      "overflow": null,
      "overflow_x": null,
      "overflow_y": null,
      "padding": null,
      "right": null,
      "top": null,
      "visibility": null,
      "width": null
     }
    },
    "61220b488c7244b6ab4c39e4f4c2689a": {
     "model_module": "@jupyter-widgets/base",
     "model_module_version": "1.2.0",
     "model_name": "LayoutModel",
     "state": {
      "_model_module": "@jupyter-widgets/base",
      "_model_module_version": "1.2.0",
      "_model_name": "LayoutModel",
      "_view_count": null,
      "_view_module": "@jupyter-widgets/base",
      "_view_module_version": "1.2.0",
      "_view_name": "LayoutView",
      "align_content": null,
      "align_items": null,
      "align_self": null,
      "border": null,
      "bottom": null,
      "display": null,
      "flex": null,
      "flex_flow": null,
      "grid_area": null,
      "grid_auto_columns": null,
      "grid_auto_flow": null,
      "grid_auto_rows": null,
      "grid_column": null,
      "grid_gap": null,
      "grid_row": null,
      "grid_template_areas": null,
      "grid_template_columns": null,
      "grid_template_rows": null,
      "height": null,
      "justify_content": null,
      "justify_items": null,
      "left": null,
      "margin": null,
      "max_height": null,
      "max_width": null,
      "min_height": null,
      "min_width": null,
      "object_fit": null,
      "object_position": null,
      "order": null,
      "overflow": null,
      "overflow_x": null,
      "overflow_y": null,
      "padding": null,
      "right": null,
      "top": null,
      "visibility": null,
      "width": null
     }
    },
    "61794be8a1914b389a9f57eea74a78e8": {
     "model_module": "@jupyter-widgets/controls",
     "model_module_version": "1.5.0",
     "model_name": "HTMLModel",
     "state": {
      "_dom_classes": [],
      "_model_module": "@jupyter-widgets/controls",
      "_model_module_version": "1.5.0",
      "_model_name": "HTMLModel",
      "_view_count": null,
      "_view_module": "@jupyter-widgets/controls",
      "_view_module_version": "1.5.0",
      "_view_name": "HTMLView",
      "description": "",
      "description_tooltip": null,
      "layout": "IPY_MODEL_dd144b57593c42bb8d967d0fe5994940",
      "placeholder": "​",
      "style": "IPY_MODEL_105030aaec114b2eb731f9d48777a419",
      "value": "100%"
     }
    },
    "6276805a945e45c4bdfbb618b2f619cf": {
     "model_module": "@jupyter-widgets/controls",
     "model_module_version": "1.5.0",
     "model_name": "HBoxModel",
     "state": {
      "_dom_classes": [],
      "_model_module": "@jupyter-widgets/controls",
      "_model_module_version": "1.5.0",
      "_model_name": "HBoxModel",
      "_view_count": null,
      "_view_module": "@jupyter-widgets/controls",
      "_view_module_version": "1.5.0",
      "_view_name": "HBoxView",
      "box_style": "",
      "children": [
       "IPY_MODEL_b691e3ac85c048b893ce4eec03ef5e19",
       "IPY_MODEL_4d9436cc11844fa6b211f411d5a61b5d",
       "IPY_MODEL_b0dc22cfa1fc4fba8457156080e5ba71"
      ],
      "layout": "IPY_MODEL_ac65ed95f9b947c4bf4a3021a791a07e"
     }
    },
    "64569f2d39134623b52b80cfc7674bab": {
     "model_module": "@jupyter-widgets/controls",
     "model_module_version": "1.5.0",
     "model_name": "DescriptionStyleModel",
     "state": {
      "_model_module": "@jupyter-widgets/controls",
      "_model_module_version": "1.5.0",
      "_model_name": "DescriptionStyleModel",
      "_view_count": null,
      "_view_module": "@jupyter-widgets/base",
      "_view_module_version": "1.2.0",
      "_view_name": "StyleView",
      "description_width": ""
     }
    },
    "68018fff4cfe4a82a9f001f97ce1c789": {
     "model_module": "@jupyter-widgets/controls",
     "model_module_version": "1.5.0",
     "model_name": "DescriptionStyleModel",
     "state": {
      "_model_module": "@jupyter-widgets/controls",
      "_model_module_version": "1.5.0",
      "_model_name": "DescriptionStyleModel",
      "_view_count": null,
      "_view_module": "@jupyter-widgets/base",
      "_view_module_version": "1.2.0",
      "_view_name": "StyleView",
      "description_width": ""
     }
    },
    "6ce79242428d42f6be5ba6090879013f": {
     "model_module": "@jupyter-widgets/controls",
     "model_module_version": "1.5.0",
     "model_name": "DescriptionStyleModel",
     "state": {
      "_model_module": "@jupyter-widgets/controls",
      "_model_module_version": "1.5.0",
      "_model_name": "DescriptionStyleModel",
      "_view_count": null,
      "_view_module": "@jupyter-widgets/base",
      "_view_module_version": "1.2.0",
      "_view_name": "StyleView",
      "description_width": ""
     }
    },
    "7205a60845604b91a2cdf4cfc6c8064f": {
     "model_module": "@jupyter-widgets/controls",
     "model_module_version": "1.5.0",
     "model_name": "HBoxModel",
     "state": {
      "_dom_classes": [],
      "_model_module": "@jupyter-widgets/controls",
      "_model_module_version": "1.5.0",
      "_model_name": "HBoxModel",
      "_view_count": null,
      "_view_module": "@jupyter-widgets/controls",
      "_view_module_version": "1.5.0",
      "_view_name": "HBoxView",
      "box_style": "",
      "children": [
       "IPY_MODEL_ff1610e548aa4ea0aa151058bcd689e9",
       "IPY_MODEL_fd180c829444484f84d781cd1609cf7e",
       "IPY_MODEL_e0ae49e73ef2484885cd8fe198f19434"
      ],
      "layout": "IPY_MODEL_800e0190dbbd4492aa6b78df8a33417e"
     }
    },
    "74a65d05987a4aeb82ca709dc62c9303": {
     "model_module": "@jupyter-widgets/controls",
     "model_module_version": "1.5.0",
     "model_name": "DescriptionStyleModel",
     "state": {
      "_model_module": "@jupyter-widgets/controls",
      "_model_module_version": "1.5.0",
      "_model_name": "DescriptionStyleModel",
      "_view_count": null,
      "_view_module": "@jupyter-widgets/base",
      "_view_module_version": "1.2.0",
      "_view_name": "StyleView",
      "description_width": ""
     }
    },
    "77484e64fdd74fbb80eab549a25dc97e": {
     "model_module": "@jupyter-widgets/controls",
     "model_module_version": "1.5.0",
     "model_name": "HTMLModel",
     "state": {
      "_dom_classes": [],
      "_model_module": "@jupyter-widgets/controls",
      "_model_module_version": "1.5.0",
      "_model_name": "HTMLModel",
      "_view_count": null,
      "_view_module": "@jupyter-widgets/controls",
      "_view_module_version": "1.5.0",
      "_view_name": "HTMLView",
      "description": "",
      "description_tooltip": null,
      "layout": "IPY_MODEL_1a0c78146a404cffa281af9819ca177f",
      "placeholder": "​",
      "style": "IPY_MODEL_4c3b3f9ed85a4d21ba0ca9862bdb969b",
      "value": " 2480/0 [00:02&lt;00:00, 890.34 examples/s]"
     }
    },
    "7cc65a7325144fef8534ead6c1610720": {
     "model_module": "@jupyter-widgets/controls",
     "model_module_version": "1.5.0",
     "model_name": "FloatProgressModel",
     "state": {
      "_dom_classes": [],
      "_model_module": "@jupyter-widgets/controls",
      "_model_module_version": "1.5.0",
      "_model_name": "FloatProgressModel",
      "_view_count": null,
      "_view_module": "@jupyter-widgets/controls",
      "_view_module_version": "1.5.0",
      "_view_name": "ProgressView",
      "bar_style": "success",
      "description": "",
      "description_tooltip": null,
      "layout": "IPY_MODEL_afed341a43a3445697d9287607bab6a9",
      "max": 1,
      "min": 0,
      "orientation": "horizontal",
      "style": "IPY_MODEL_a2a50b20b3574ec59781560a0b1daec7",
      "value": 1
     }
    },
    "7f71525fe79945e3970b73a59494175e": {
     "model_module": "@jupyter-widgets/base",
     "model_module_version": "1.2.0",
     "model_name": "LayoutModel",
     "state": {
      "_model_module": "@jupyter-widgets/base",
      "_model_module_version": "1.2.0",
      "_model_name": "LayoutModel",
      "_view_count": null,
      "_view_module": "@jupyter-widgets/base",
      "_view_module_version": "1.2.0",
      "_view_name": "LayoutView",
      "align_content": null,
      "align_items": null,
      "align_self": null,
      "border": null,
      "bottom": null,
      "display": null,
      "flex": null,
      "flex_flow": null,
      "grid_area": null,
      "grid_auto_columns": null,
      "grid_auto_flow": null,
      "grid_auto_rows": null,
      "grid_column": null,
      "grid_gap": null,
      "grid_row": null,
      "grid_template_areas": null,
      "grid_template_columns": null,
      "grid_template_rows": null,
      "height": null,
      "justify_content": null,
      "justify_items": null,
      "left": null,
      "margin": null,
      "max_height": null,
      "max_width": null,
      "min_height": null,
      "min_width": null,
      "object_fit": null,
      "object_position": null,
      "order": null,
      "overflow": null,
      "overflow_x": null,
      "overflow_y": null,
      "padding": null,
      "right": null,
      "top": null,
      "visibility": null,
      "width": null
     }
    },
    "800e0190dbbd4492aa6b78df8a33417e": {
     "model_module": "@jupyter-widgets/base",
     "model_module_version": "1.2.0",
     "model_name": "LayoutModel",
     "state": {
      "_model_module": "@jupyter-widgets/base",
      "_model_module_version": "1.2.0",
      "_model_name": "LayoutModel",
      "_view_count": null,
      "_view_module": "@jupyter-widgets/base",
      "_view_module_version": "1.2.0",
      "_view_name": "LayoutView",
      "align_content": null,
      "align_items": null,
      "align_self": null,
      "border": null,
      "bottom": null,
      "display": null,
      "flex": null,
      "flex_flow": null,
      "grid_area": null,
      "grid_auto_columns": null,
      "grid_auto_flow": null,
      "grid_auto_rows": null,
      "grid_column": null,
      "grid_gap": null,
      "grid_row": null,
      "grid_template_areas": null,
      "grid_template_columns": null,
      "grid_template_rows": null,
      "height": null,
      "justify_content": null,
      "justify_items": null,
      "left": null,
      "margin": null,
      "max_height": null,
      "max_width": null,
      "min_height": null,
      "min_width": null,
      "object_fit": null,
      "object_position": null,
      "order": null,
      "overflow": null,
      "overflow_x": null,
      "overflow_y": null,
      "padding": null,
      "right": null,
      "top": null,
      "visibility": null,
      "width": null
     }
    },
    "806c0ef2eb374689b90a1d26ce09cf61": {
     "model_module": "@jupyter-widgets/controls",
     "model_module_version": "1.5.0",
     "model_name": "HTMLModel",
     "state": {
      "_dom_classes": [],
      "_model_module": "@jupyter-widgets/controls",
      "_model_module_version": "1.5.0",
      "_model_name": "HTMLModel",
      "_view_count": null,
      "_view_module": "@jupyter-widgets/controls",
      "_view_module_version": "1.5.0",
      "_view_name": "HTMLView",
      "description": "",
      "description_tooltip": null,
      "layout": "IPY_MODEL_39b7030d6b98439bafeea3e13d3e7863",
      "placeholder": "​",
      "style": "IPY_MODEL_ded362555f0a4baa8ebb189114464cff",
      "value": "Dl Size...: 100%"
     }
    },
    "82613981384d4f738bffe2ed9bd3ff82": {
     "model_module": "@jupyter-widgets/controls",
     "model_module_version": "1.5.0",
     "model_name": "ProgressStyleModel",
     "state": {
      "_model_module": "@jupyter-widgets/controls",
      "_model_module_version": "1.5.0",
      "_model_name": "ProgressStyleModel",
      "_view_count": null,
      "_view_module": "@jupyter-widgets/base",
      "_view_module_version": "1.2.0",
      "_view_name": "StyleView",
      "bar_color": null,
      "description_width": ""
     }
    },
    "9031444ca05e427c86dc2d9f16e75b12": {
     "model_module": "@jupyter-widgets/base",
     "model_module_version": "1.2.0",
     "model_name": "LayoutModel",
     "state": {
      "_model_module": "@jupyter-widgets/base",
      "_model_module_version": "1.2.0",
      "_model_name": "LayoutModel",
      "_view_count": null,
      "_view_module": "@jupyter-widgets/base",
      "_view_module_version": "1.2.0",
      "_view_name": "LayoutView",
      "align_content": null,
      "align_items": null,
      "align_self": null,
      "border": null,
      "bottom": null,
      "display": null,
      "flex": null,
      "flex_flow": null,
      "grid_area": null,
      "grid_auto_columns": null,
      "grid_auto_flow": null,
      "grid_auto_rows": null,
      "grid_column": null,
      "grid_gap": null,
      "grid_row": null,
      "grid_template_areas": null,
      "grid_template_columns": null,
      "grid_template_rows": null,
      "height": null,
      "justify_content": null,
      "justify_items": null,
      "left": null,
      "margin": null,
      "max_height": null,
      "max_width": null,
      "min_height": null,
      "min_width": null,
      "object_fit": null,
      "object_position": null,
      "order": null,
      "overflow": null,
      "overflow_x": null,
      "overflow_y": null,
      "padding": null,
      "right": null,
      "top": null,
      "visibility": null,
      "width": null
     }
    },
    "942c2d7530bd4834895a2dd69cd0985e": {
     "model_module": "@jupyter-widgets/controls",
     "model_module_version": "1.5.0",
     "model_name": "FloatProgressModel",
     "state": {
      "_dom_classes": [],
      "_model_module": "@jupyter-widgets/controls",
      "_model_module_version": "1.5.0",
      "_model_name": "FloatProgressModel",
      "_view_count": null,
      "_view_module": "@jupyter-widgets/controls",
      "_view_module_version": "1.5.0",
      "_view_name": "ProgressView",
      "bar_style": "danger",
      "description": "",
      "description_tooltip": null,
      "layout": "IPY_MODEL_5dde86dbb9f74f24aca6c05dbaf246c5",
      "max": 2520,
      "min": 0,
      "orientation": "horizontal",
      "style": "IPY_MODEL_cb33178721004f6ca2704d8684f0e192",
      "value": 2519
     }
    },
    "97d66690554341ca97bc3a11be7cdc26": {
     "model_module": "@jupyter-widgets/base",
     "model_module_version": "1.2.0",
     "model_name": "LayoutModel",
     "state": {
      "_model_module": "@jupyter-widgets/base",
      "_model_module_version": "1.2.0",
      "_model_name": "LayoutModel",
      "_view_count": null,
      "_view_module": "@jupyter-widgets/base",
      "_view_module_version": "1.2.0",
      "_view_name": "LayoutView",
      "align_content": null,
      "align_items": null,
      "align_self": null,
      "border": null,
      "bottom": null,
      "display": null,
      "flex": null,
      "flex_flow": null,
      "grid_area": null,
      "grid_auto_columns": null,
      "grid_auto_flow": null,
      "grid_auto_rows": null,
      "grid_column": null,
      "grid_gap": null,
      "grid_row": null,
      "grid_template_areas": null,
      "grid_template_columns": null,
      "grid_template_rows": null,
      "height": null,
      "justify_content": null,
      "justify_items": null,
      "left": null,
      "margin": null,
      "max_height": null,
      "max_width": null,
      "min_height": null,
      "min_width": null,
      "object_fit": null,
      "object_position": null,
      "order": null,
      "overflow": null,
      "overflow_x": null,
      "overflow_y": null,
      "padding": null,
      "right": null,
      "top": null,
      "visibility": null,
      "width": null
     }
    },
    "a07082b97f524c61ba943e479a7a3ec3": {
     "model_module": "@jupyter-widgets/controls",
     "model_module_version": "1.5.0",
     "model_name": "HBoxModel",
     "state": {
      "_dom_classes": [],
      "_model_module": "@jupyter-widgets/controls",
      "_model_module_version": "1.5.0",
      "_model_name": "HBoxModel",
      "_view_count": null,
      "_view_module": "@jupyter-widgets/controls",
      "_view_module_version": "1.5.0",
      "_view_name": "HBoxView",
      "box_style": "",
      "children": [
       "IPY_MODEL_e3e41fd146214429ad80c421d3651fcd",
       "IPY_MODEL_dee620440e6e49e999c3f3c148069531",
       "IPY_MODEL_77484e64fdd74fbb80eab549a25dc97e"
      ],
      "layout": "IPY_MODEL_5050fb25cc99401fb356f0b0bcc28cf3"
     }
    },
    "a2358539513d4aedb092318a1acf7a79": {
     "model_module": "@jupyter-widgets/base",
     "model_module_version": "1.2.0",
     "model_name": "LayoutModel",
     "state": {
      "_model_module": "@jupyter-widgets/base",
      "_model_module_version": "1.2.0",
      "_model_name": "LayoutModel",
      "_view_count": null,
      "_view_module": "@jupyter-widgets/base",
      "_view_module_version": "1.2.0",
      "_view_name": "LayoutView",
      "align_content": null,
      "align_items": null,
      "align_self": null,
      "border": null,
      "bottom": null,
      "display": null,
      "flex": null,
      "flex_flow": null,
      "grid_area": null,
      "grid_auto_columns": null,
      "grid_auto_flow": null,
      "grid_auto_rows": null,
      "grid_column": null,
      "grid_gap": null,
      "grid_row": null,
      "grid_template_areas": null,
      "grid_template_columns": null,
      "grid_template_rows": null,
      "height": null,
      "justify_content": null,
      "justify_items": null,
      "left": null,
      "margin": null,
      "max_height": null,
      "max_width": null,
      "min_height": null,
      "min_width": null,
      "object_fit": null,
      "object_position": null,
      "order": null,
      "overflow": null,
      "overflow_x": null,
      "overflow_y": null,
      "padding": null,
      "right": null,
      "top": null,
      "visibility": null,
      "width": null
     }
    },
    "a2a50b20b3574ec59781560a0b1daec7": {
     "model_module": "@jupyter-widgets/controls",
     "model_module_version": "1.5.0",
     "model_name": "ProgressStyleModel",
     "state": {
      "_model_module": "@jupyter-widgets/controls",
      "_model_module_version": "1.5.0",
      "_model_name": "ProgressStyleModel",
      "_view_count": null,
      "_view_module": "@jupyter-widgets/base",
      "_view_module_version": "1.2.0",
      "_view_name": "StyleView",
      "bar_color": null,
      "description_width": ""
     }
    },
    "ac405f8086d84afc90bc9c99122bb379": {
     "model_module": "@jupyter-widgets/controls",
     "model_module_version": "1.5.0",
     "model_name": "HTMLModel",
     "state": {
      "_dom_classes": [],
      "_model_module": "@jupyter-widgets/controls",
      "_model_module_version": "1.5.0",
      "_model_name": "HTMLModel",
      "_view_count": null,
      "_view_module": "@jupyter-widgets/controls",
      "_view_module_version": "1.5.0",
      "_view_name": "HTMLView",
      "description": "",
      "description_tooltip": null,
      "layout": "IPY_MODEL_5bd39289efca4efeae241abb9b7983fd",
      "placeholder": "​",
      "style": "IPY_MODEL_18eda5043abc49339d16c813757050fe",
      "value": "Dl Completed...: 100%"
     }
    },
    "ac65ed95f9b947c4bf4a3021a791a07e": {
     "model_module": "@jupyter-widgets/base",
     "model_module_version": "1.2.0",
     "model_name": "LayoutModel",
     "state": {
      "_model_module": "@jupyter-widgets/base",
      "_model_module_version": "1.2.0",
      "_model_name": "LayoutModel",
      "_view_count": null,
      "_view_module": "@jupyter-widgets/base",
      "_view_module_version": "1.2.0",
      "_view_name": "LayoutView",
      "align_content": null,
      "align_items": null,
      "align_self": null,
      "border": null,
      "bottom": null,
      "display": null,
      "flex": null,
      "flex_flow": null,
      "grid_area": null,
      "grid_auto_columns": null,
      "grid_auto_flow": null,
      "grid_auto_rows": null,
      "grid_column": null,
      "grid_gap": null,
      "grid_row": null,
      "grid_template_areas": null,
      "grid_template_columns": null,
      "grid_template_rows": null,
      "height": null,
      "justify_content": null,
      "justify_items": null,
      "left": null,
      "margin": null,
      "max_height": null,
      "max_width": null,
      "min_height": null,
      "min_width": null,
      "object_fit": null,
      "object_position": null,
      "order": null,
      "overflow": null,
      "overflow_x": null,
      "overflow_y": null,
      "padding": null,
      "right": null,
      "top": null,
      "visibility": null,
      "width": null
     }
    },
    "afed341a43a3445697d9287607bab6a9": {
     "model_module": "@jupyter-widgets/base",
     "model_module_version": "1.2.0",
     "model_name": "LayoutModel",
     "state": {
      "_model_module": "@jupyter-widgets/base",
      "_model_module_version": "1.2.0",
      "_model_name": "LayoutModel",
      "_view_count": null,
      "_view_module": "@jupyter-widgets/base",
      "_view_module_version": "1.2.0",
      "_view_name": "LayoutView",
      "align_content": null,
      "align_items": null,
      "align_self": null,
      "border": null,
      "bottom": null,
      "display": null,
      "flex": null,
      "flex_flow": null,
      "grid_area": null,
      "grid_auto_columns": null,
      "grid_auto_flow": null,
      "grid_auto_rows": null,
      "grid_column": null,
      "grid_gap": null,
      "grid_row": null,
      "grid_template_areas": null,
      "grid_template_columns": null,
      "grid_template_rows": null,
      "height": null,
      "justify_content": null,
      "justify_items": null,
      "left": null,
      "margin": null,
      "max_height": null,
      "max_width": null,
      "min_height": null,
      "min_width": null,
      "object_fit": null,
      "object_position": null,
      "order": null,
      "overflow": null,
      "overflow_x": null,
      "overflow_y": null,
      "padding": null,
      "right": null,
      "top": null,
      "visibility": null,
      "width": "20px"
     }
    },
    "b0dc22cfa1fc4fba8457156080e5ba71": {
     "model_module": "@jupyter-widgets/controls",
     "model_module_version": "1.5.0",
     "model_name": "HTMLModel",
     "state": {
      "_dom_classes": [],
      "_model_module": "@jupyter-widgets/controls",
      "_model_module_version": "1.5.0",
      "_model_name": "HTMLModel",
      "_view_count": null,
      "_view_module": "@jupyter-widgets/controls",
      "_view_module_version": "1.5.0",
      "_view_name": "HTMLView",
      "description": "",
      "description_tooltip": null,
      "layout": "IPY_MODEL_04280525950f450dae954981b4424344",
      "placeholder": "​",
      "style": "IPY_MODEL_74a65d05987a4aeb82ca709dc62c9303",
      "value": " 358/0 [00:00&lt;00:00, 527.04 examples/s]"
     }
    },
    "b691e3ac85c048b893ce4eec03ef5e19": {
     "model_module": "@jupyter-widgets/controls",
     "model_module_version": "1.5.0",
     "model_name": "HTMLModel",
     "state": {
      "_dom_classes": [],
      "_model_module": "@jupyter-widgets/controls",
      "_model_module_version": "1.5.0",
      "_model_name": "HTMLModel",
      "_view_count": null,
      "_view_module": "@jupyter-widgets/controls",
      "_view_module_version": "1.5.0",
      "_view_name": "HTMLView",
      "description": "",
      "description_tooltip": null,
      "layout": "IPY_MODEL_5729c25817aa438bbe5a1642912ae559",
      "placeholder": "​",
      "style": "IPY_MODEL_64569f2d39134623b52b80cfc7674bab",
      "value": ""
     }
    },
    "b752181f060a4840b57d326d6b4504a3": {
     "model_module": "@jupyter-widgets/controls",
     "model_module_version": "1.5.0",
     "model_name": "DescriptionStyleModel",
     "state": {
      "_model_module": "@jupyter-widgets/controls",
      "_model_module_version": "1.5.0",
      "_model_name": "DescriptionStyleModel",
      "_view_count": null,
      "_view_module": "@jupyter-widgets/base",
      "_view_module_version": "1.2.0",
      "_view_name": "StyleView",
      "description_width": ""
     }
    },
    "cb33178721004f6ca2704d8684f0e192": {
     "model_module": "@jupyter-widgets/controls",
     "model_module_version": "1.5.0",
     "model_name": "ProgressStyleModel",
     "state": {
      "_model_module": "@jupyter-widgets/controls",
      "_model_module_version": "1.5.0",
      "_model_name": "ProgressStyleModel",
      "_view_count": null,
      "_view_module": "@jupyter-widgets/base",
      "_view_module_version": "1.2.0",
      "_view_name": "StyleView",
      "bar_color": null,
      "description_width": ""
     }
    },
    "cc248f66534b4aa1979529f403f0f88b": {
     "model_module": "@jupyter-widgets/base",
     "model_module_version": "1.2.0",
     "model_name": "LayoutModel",
     "state": {
      "_model_module": "@jupyter-widgets/base",
      "_model_module_version": "1.2.0",
      "_model_name": "LayoutModel",
      "_view_count": null,
      "_view_module": "@jupyter-widgets/base",
      "_view_module_version": "1.2.0",
      "_view_name": "LayoutView",
      "align_content": null,
      "align_items": null,
      "align_self": null,
      "border": null,
      "bottom": null,
      "display": null,
      "flex": null,
      "flex_flow": null,
      "grid_area": null,
      "grid_auto_columns": null,
      "grid_auto_flow": null,
      "grid_auto_rows": null,
      "grid_column": null,
      "grid_gap": null,
      "grid_row": null,
      "grid_template_areas": null,
      "grid_template_columns": null,
      "grid_template_rows": null,
      "height": null,
      "justify_content": null,
      "justify_items": null,
      "left": null,
      "margin": null,
      "max_height": null,
      "max_width": null,
      "min_height": null,
      "min_width": null,
      "object_fit": null,
      "object_position": null,
      "order": null,
      "overflow": null,
      "overflow_x": null,
      "overflow_y": null,
      "padding": null,
      "right": null,
      "top": null,
      "visibility": null,
      "width": null
     }
    },
    "ccc93910df5646ba9f89e24ef9cfe616": {
     "model_module": "@jupyter-widgets/controls",
     "model_module_version": "1.5.0",
     "model_name": "HTMLModel",
     "state": {
      "_dom_classes": [],
      "_model_module": "@jupyter-widgets/controls",
      "_model_module_version": "1.5.0",
      "_model_name": "HTMLModel",
      "_view_count": null,
      "_view_module": "@jupyter-widgets/controls",
      "_view_module_version": "1.5.0",
      "_view_name": "HTMLView",
      "description": "",
      "description_tooltip": null,
      "layout": "IPY_MODEL_5114ce0414b146608aa01a1cc4aba56e",
      "placeholder": "​",
      "style": "IPY_MODEL_5790c4ea76e94a6da52aaa120b0efea5",
      "value": " 219/219 [00:05&lt;00:00, 37.38 MiB/s]"
     }
    },
    "d5d96731fc2549d9bc4e14f84662d2a5": {
     "model_module": "@jupyter-widgets/base",
     "model_module_version": "1.2.0",
     "model_name": "LayoutModel",
     "state": {
      "_model_module": "@jupyter-widgets/base",
      "_model_module_version": "1.2.0",
      "_model_name": "LayoutModel",
      "_view_count": null,
      "_view_module": "@jupyter-widgets/base",
      "_view_module_version": "1.2.0",
      "_view_name": "LayoutView",
      "align_content": null,
      "align_items": null,
      "align_self": null,
      "border": null,
      "bottom": null,
      "display": null,
      "flex": null,
      "flex_flow": null,
      "grid_area": null,
      "grid_auto_columns": null,
      "grid_auto_flow": null,
      "grid_auto_rows": null,
      "grid_column": null,
      "grid_gap": null,
      "grid_row": null,
      "grid_template_areas": null,
      "grid_template_columns": null,
      "grid_template_rows": null,
      "height": null,
      "justify_content": null,
      "justify_items": null,
      "left": null,
      "margin": null,
      "max_height": null,
      "max_width": null,
      "min_height": null,
      "min_width": null,
      "object_fit": null,
      "object_position": null,
      "order": null,
      "overflow": null,
      "overflow_x": null,
      "overflow_y": null,
      "padding": null,
      "right": null,
      "top": null,
      "visibility": null,
      "width": null
     }
    },
    "dd144b57593c42bb8d967d0fe5994940": {
     "model_module": "@jupyter-widgets/base",
     "model_module_version": "1.2.0",
     "model_name": "LayoutModel",
     "state": {
      "_model_module": "@jupyter-widgets/base",
      "_model_module_version": "1.2.0",
      "_model_name": "LayoutModel",
      "_view_count": null,
      "_view_module": "@jupyter-widgets/base",
      "_view_module_version": "1.2.0",
      "_view_name": "LayoutView",
      "align_content": null,
      "align_items": null,
      "align_self": null,
      "border": null,
      "bottom": null,
      "display": null,
      "flex": null,
      "flex_flow": null,
      "grid_area": null,
      "grid_auto_columns": null,
      "grid_auto_flow": null,
      "grid_auto_rows": null,
      "grid_column": null,
      "grid_gap": null,
      "grid_row": null,
      "grid_template_areas": null,
      "grid_template_columns": null,
      "grid_template_rows": null,
      "height": null,
      "justify_content": null,
      "justify_items": null,
      "left": null,
      "margin": null,
      "max_height": null,
      "max_width": null,
      "min_height": null,
      "min_width": null,
      "object_fit": null,
      "object_position": null,
      "order": null,
      "overflow": null,
      "overflow_x": null,
      "overflow_y": null,
      "padding": null,
      "right": null,
      "top": null,
      "visibility": null,
      "width": null
     }
    },
    "ded362555f0a4baa8ebb189114464cff": {
     "model_module": "@jupyter-widgets/controls",
     "model_module_version": "1.5.0",
     "model_name": "DescriptionStyleModel",
     "state": {
      "_model_module": "@jupyter-widgets/controls",
      "_model_module_version": "1.5.0",
      "_model_name": "DescriptionStyleModel",
      "_view_count": null,
      "_view_module": "@jupyter-widgets/base",
      "_view_module_version": "1.2.0",
      "_view_name": "StyleView",
      "description_width": ""
     }
    },
    "dee620440e6e49e999c3f3c148069531": {
     "model_module": "@jupyter-widgets/controls",
     "model_module_version": "1.5.0",
     "model_name": "FloatProgressModel",
     "state": {
      "_dom_classes": [],
      "_model_module": "@jupyter-widgets/controls",
      "_model_module_version": "1.5.0",
      "_model_name": "FloatProgressModel",
      "_view_count": null,
      "_view_module": "@jupyter-widgets/controls",
      "_view_module_version": "1.5.0",
      "_view_name": "ProgressView",
      "bar_style": "info",
      "description": "",
      "description_tooltip": null,
      "layout": "IPY_MODEL_58c439c4d54d4dab8dd0585bf825f287",
      "max": 1,
      "min": 0,
      "orientation": "horizontal",
      "style": "IPY_MODEL_82613981384d4f738bffe2ed9bd3ff82",
      "value": 1
     }
    },
    "e0ae49e73ef2484885cd8fe198f19434": {
     "model_module": "@jupyter-widgets/controls",
     "model_module_version": "1.5.0",
     "model_name": "HTMLModel",
     "state": {
      "_dom_classes": [],
      "_model_module": "@jupyter-widgets/controls",
      "_model_module_version": "1.5.0",
      "_model_name": "HTMLModel",
      "_view_count": null,
      "_view_module": "@jupyter-widgets/controls",
      "_view_module_version": "1.5.0",
      "_view_name": "HTMLView",
      "description": "",
      "description_tooltip": null,
      "layout": "IPY_MODEL_9031444ca05e427c86dc2d9f16e75b12",
      "placeholder": "​",
      "style": "IPY_MODEL_68018fff4cfe4a82a9f001f97ce1c789",
      "value": " 371/372 [00:00&lt;00:00,  6.66 examples/s]"
     }
    },
    "e3e41fd146214429ad80c421d3651fcd": {
     "model_module": "@jupyter-widgets/controls",
     "model_module_version": "1.5.0",
     "model_name": "HTMLModel",
     "state": {
      "_dom_classes": [],
      "_model_module": "@jupyter-widgets/controls",
      "_model_module_version": "1.5.0",
      "_model_name": "HTMLModel",
      "_view_count": null,
      "_view_module": "@jupyter-widgets/controls",
      "_view_module_version": "1.5.0",
      "_view_name": "HTMLView",
      "description": "",
      "description_tooltip": null,
      "layout": "IPY_MODEL_61220b488c7244b6ab4c39e4f4c2689a",
      "placeholder": "​",
      "style": "IPY_MODEL_5342b26a17e944a0b9ac2f634c2eccb4",
      "value": ""
     }
    },
    "e51b077c9b6b4edab0ee82167c9f014a": {
     "model_module": "@jupyter-widgets/controls",
     "model_module_version": "1.5.0",
     "model_name": "HTMLModel",
     "state": {
      "_dom_classes": [],
      "_model_module": "@jupyter-widgets/controls",
      "_model_module_version": "1.5.0",
      "_model_name": "HTMLModel",
      "_view_count": null,
      "_view_module": "@jupyter-widgets/controls",
      "_view_module_version": "1.5.0",
      "_view_name": "HTMLView",
      "description": "",
      "description_tooltip": null,
      "layout": "IPY_MODEL_a2358539513d4aedb092318a1acf7a79",
      "placeholder": "​",
      "style": "IPY_MODEL_b752181f060a4840b57d326d6b4504a3",
      "value": " 2/2 [00:05&lt;00:00,  3.18s/ url]"
     }
    },
    "e5e450f65aa241bb8c8b82aecad657b6": {
     "model_module": "@jupyter-widgets/controls",
     "model_module_version": "1.5.0",
     "model_name": "ProgressStyleModel",
     "state": {
      "_model_module": "@jupyter-widgets/controls",
      "_model_module_version": "1.5.0",
      "_model_name": "ProgressStyleModel",
      "_view_count": null,
      "_view_module": "@jupyter-widgets/base",
      "_view_module_version": "1.2.0",
      "_view_name": "StyleView",
      "bar_color": null,
      "description_width": ""
     }
    },
    "f00c4b538af2486b943ae2634ea82a98": {
     "model_module": "@jupyter-widgets/controls",
     "model_module_version": "1.5.0",
     "model_name": "ProgressStyleModel",
     "state": {
      "_model_module": "@jupyter-widgets/controls",
      "_model_module_version": "1.5.0",
      "_model_name": "ProgressStyleModel",
      "_view_count": null,
      "_view_module": "@jupyter-widgets/base",
      "_view_module_version": "1.2.0",
      "_view_name": "StyleView",
      "bar_color": null,
      "description_width": ""
     }
    },
    "fbd9b2e93a7b4fcd83d89447698ac456": {
     "model_module": "@jupyter-widgets/controls",
     "model_module_version": "1.5.0",
     "model_name": "FloatProgressModel",
     "state": {
      "_dom_classes": [],
      "_model_module": "@jupyter-widgets/controls",
      "_model_module_version": "1.5.0",
      "_model_name": "FloatProgressModel",
      "_view_count": null,
      "_view_module": "@jupyter-widgets/controls",
      "_view_module_version": "1.5.0",
      "_view_name": "ProgressView",
      "bar_style": "success",
      "description": "",
      "description_tooltip": null,
      "layout": "IPY_MODEL_51177a0318654c218b5c0aceec974353",
      "max": 1,
      "min": 0,
      "orientation": "horizontal",
      "style": "IPY_MODEL_1ac88ca3eb604a78b7048e977c8d4e1b",
      "value": 1
     }
    },
    "fd180c829444484f84d781cd1609cf7e": {
     "model_module": "@jupyter-widgets/controls",
     "model_module_version": "1.5.0",
     "model_name": "FloatProgressModel",
     "state": {
      "_dom_classes": [],
      "_model_module": "@jupyter-widgets/controls",
      "_model_module_version": "1.5.0",
      "_model_name": "FloatProgressModel",
      "_view_count": null,
      "_view_module": "@jupyter-widgets/controls",
      "_view_module_version": "1.5.0",
      "_view_name": "ProgressView",
      "bar_style": "danger",
      "description": "",
      "description_tooltip": null,
      "layout": "IPY_MODEL_97d66690554341ca97bc3a11be7cdc26",
      "max": 372,
      "min": 0,
      "orientation": "horizontal",
      "style": "IPY_MODEL_f00c4b538af2486b943ae2634ea82a98",
      "value": 371
     }
    },
    "ff1610e548aa4ea0aa151058bcd689e9": {
     "model_module": "@jupyter-widgets/controls",
     "model_module_version": "1.5.0",
     "model_name": "HTMLModel",
     "state": {
      "_dom_classes": [],
      "_model_module": "@jupyter-widgets/controls",
      "_model_module_version": "1.5.0",
      "_model_name": "HTMLModel",
      "_view_count": null,
      "_view_module": "@jupyter-widgets/controls",
      "_view_module_version": "1.5.0",
      "_view_name": "HTMLView",
      "description": "",
      "description_tooltip": null,
      "layout": "IPY_MODEL_cc248f66534b4aa1979529f403f0f88b",
      "placeholder": "​",
      "style": "IPY_MODEL_2718f79d354441e1aada52ff950575aa",
      "value": "100%"
     }
    }
   }
  }
 },
 "nbformat": 4,
 "nbformat_minor": 4
}
