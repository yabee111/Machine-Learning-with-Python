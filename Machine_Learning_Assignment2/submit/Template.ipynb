{
 "cells": [
  {
   "cell_type": "code",
   "execution_count": 1,
   "metadata": {
    "execution": {
     "iopub.execute_input": "2022-03-28T14:46:16.184636Z",
     "iopub.status.busy": "2022-03-28T14:46:16.184243Z",
     "iopub.status.idle": "2022-03-28T14:46:33.187342Z",
     "shell.execute_reply": "2022-03-28T14:46:33.187580Z"
    },
    "tags": [
     "hide_input"
    ]
   },
   "outputs": [],
   "source": [
    "%%capture\n",
    "# DO NOT EDIT THIS NOTEBOOK\n",
    "# It generates a report to verify your submission\n",
    "import warnings\n",
    "warnings.simplefilter(action=\"ignore\", category=FutureWarning)\n",
    "warnings.simplefilter(action=\"ignore\", category=UserWarning)\n",
    "\n",
    "try:\n",
    "    import solution\n",
    "except NameError:\n",
    "    print(\"\"\"\n",
    "    Could not import solution. Check the following: \n",
    "    1) Does your notebook run top-to-bottom (restart kernel and run all) on your local machine? Notebooks downloaded from another runtime may contain unexpected commands. \n",
    "    2) Does solution.py exist in the submit folder?\n",
    "    3) Check that your notebook does not have any 'pip install' commands.\n",
    "    4) Run 'python solution.py' to see where it breaks. Does that help you solve it?\n",
    "    5) If 'solution.py' runs without issues, try to run 'Template.ipynb' top to bottom. Does that help you solve it?\n",
    "    6) If both 'solution.py' and 'Template.ipynb' run without error, it is likley a local environment issue. Submit to GitHub and see if the automated test passes.\n",
    "    \"\"\")\n",
    "\n",
    "import time\n",
    "start_verify = time.time()\n",
    "import matplotlib.pyplot as plt\n",
    "plt.rcParams[\"figure.figsize\"] = (10,3)\n",
    "\n",
    "# Key variables\n",
    "X = solution.X\n",
    "y = solution.y"
   ]
  },
  {
   "cell_type": "markdown",
   "metadata": {},
   "source": [
    "### Machine Learning Engineering - Assignment 2"
   ]
  },
  {
   "cell_type": "code",
   "execution_count": 2,
   "metadata": {
    "execution": {
     "iopub.execute_input": "2022-03-28T14:46:33.189929Z",
     "iopub.status.busy": "2022-03-28T14:46:33.189598Z",
     "iopub.status.idle": "2022-03-28T14:46:33.193812Z",
     "shell.execute_reply": "2022-03-28T14:46:33.193990Z"
    },
    "tags": [
     "hide_input"
    ]
   },
   "outputs": [
    {
     "name": "stdout",
     "output_type": "stream",
     "text": [
      "Name: Nien, Ting-Yu\n"
     ]
    }
   ],
   "source": [
    "print(\"Name:\",solution.your_name)"
   ]
  },
  {
   "cell_type": "markdown",
   "metadata": {},
   "source": [
    "#### Answer 1.1: A simple pipeline (4p)"
   ]
  },
  {
   "cell_type": "code",
   "execution_count": 3,
   "metadata": {
    "execution": {
     "iopub.execute_input": "2022-03-28T14:46:33.197658Z",
     "iopub.status.busy": "2022-03-28T14:46:33.197336Z",
     "iopub.status.idle": "2022-03-28T14:46:36.538241Z",
     "shell.execute_reply": "2022-03-28T14:46:36.538561Z"
    },
    "tags": [
     "hide_input"
    ]
   },
   "outputs": [
    {
     "name": "stdout",
     "output_type": "stream",
     "text": [
      "Pipeline sanity check passed\n"
     ]
    }
   ],
   "source": [
    "from sklearn.tree import DecisionTreeRegressor\n",
    "try:\n",
    "    solution.simple_pipeline(X,DecisionTreeRegressor()).fit(X,y)\n",
    "    print(\"Pipeline sanity check passed\")\n",
    "except:\n",
    "    print(\"Pipeline did not run correctly. Please fix.\")"
   ]
  },
  {
   "cell_type": "markdown",
   "metadata": {},
   "source": [
    "#### Answer 1.2: A simple wrapper (4p)"
   ]
  },
  {
   "cell_type": "code",
   "execution_count": 4,
   "metadata": {
    "execution": {
     "iopub.execute_input": "2022-03-28T14:46:36.543634Z",
     "iopub.status.busy": "2022-03-28T14:46:36.543309Z",
     "iopub.status.idle": "2022-03-28T14:47:38.335494Z",
     "shell.execute_reply": "2022-03-28T14:47:38.334616Z"
    },
    "tags": [
     "hide_input"
    ]
   },
   "outputs": [
    {
     "data": {
      "text/plain": [
       "['date_first_hired',\n",
       " 'year_first_hired',\n",
       " 'full_name',\n",
       " 'employee_position_title',\n",
       " 'division']"
      ]
     },
     "execution_count": 4,
     "metadata": {},
     "output_type": "execute_result"
    }
   ],
   "source": [
    "solution.backward_selection(X, y, solution.simple_pipeline, nr_remove=5)"
   ]
  },
  {
   "cell_type": "markdown",
   "metadata": {},
   "source": [
    "#### Answer 1.3: Interpretation (2p)"
   ]
  },
  {
   "cell_type": "code",
   "execution_count": 5,
   "metadata": {
    "execution": {
     "iopub.execute_input": "2022-03-28T14:47:38.342950Z",
     "iopub.status.busy": "2022-03-28T14:47:38.341960Z",
     "iopub.status.idle": "2022-03-28T14:47:38.346913Z",
     "shell.execute_reply": "2022-03-28T14:47:38.344730Z"
    },
    "tags": [
     "hide_input"
    ]
   },
   "outputs": [],
   "source": [
    "mc13 = {'A': \"The feature 'full_name' should be removed since it is unique, which is bad for modelling.\",\n",
    "        'B': \"The feature 'full_name' should be removed since it contains people's names, which is unethical.\",\n",
    "        'C': \"The feature 'full_name' should be kept. The one-hot encoder can handle  these kind of features efficiently, and it will make the model more flexible.\",\n",
    "        'D': \"The feature 'department' should be removed since it is a duplicate feature with 'department_name'.\",\n",
    "        'E': \"The feature 'department' provides useful extra information and should  be kept.\",\n",
    "        'F': \"The feature 'date_first_hired' is redundant since there is a 'year_first_hired' feature as well, so it can be removed.\",\n",
    "        'G': \"The feature 'date_first_hired' should be encoded differently or removed.\",\n",
    "        'H': \"The feature 'date_first_hired' is more informative as a category feature than a numeric timestamp, so it should be kept.\",\n",
    "        'I': \"No answer\"\n",
    "       }"
   ]
  },
  {
   "cell_type": "code",
   "execution_count": 6,
   "metadata": {
    "execution": {
     "iopub.execute_input": "2022-03-28T14:47:38.355058Z",
     "iopub.status.busy": "2022-03-28T14:47:38.354149Z",
     "iopub.status.idle": "2022-03-28T14:47:38.361200Z",
     "shell.execute_reply": "2022-03-28T14:47:38.361770Z"
    },
    "tags": [
     "hide_input"
    ]
   },
   "outputs": [
    {
     "name": "stdout",
     "output_type": "stream",
     "text": [
      "A : The feature 'full_name' should be removed since it is unique, which is bad for modelling.\n",
      "B : The feature 'full_name' should be removed since it contains people's names, which is unethical.\n",
      "D : The feature 'department' should be removed since it is a duplicate feature with 'department_name'.\n",
      "G : The feature 'date_first_hired' should be encoded differently or removed.\n"
     ]
    }
   ],
   "source": [
    "for a in solution.q_1_3.split(\",\"):\n",
    "    if a in mc13:\n",
    "        print(a,\":\",mc13[a])\n",
    "    else:\n",
    "        print(\"Invalid response!\")"
   ]
  },
  {
   "cell_type": "markdown",
   "metadata": {},
   "source": [
    "#### Answer 1.4: Dimensionality (2p)"
   ]
  },
  {
   "cell_type": "code",
   "execution_count": 7,
   "metadata": {
    "execution": {
     "iopub.execute_input": "2022-03-28T14:47:38.373481Z",
     "iopub.status.busy": "2022-03-28T14:47:38.372417Z",
     "iopub.status.idle": "2022-03-28T14:47:38.378935Z",
     "shell.execute_reply": "2022-03-28T14:47:38.377255Z"
    },
    "tags": [
     "hide_input"
    ]
   },
   "outputs": [
    {
     "name": "stdout",
     "output_type": "stream",
     "text": [
      "Number of features: 1205\n"
     ]
    }
   ],
   "source": [
    "cols = [c for c in X.columns if c.lower() not in ['full_name','department','date_first_hired','2016_gross_pay_received', '2016_overtime_pay']]\n",
    "X = X[cols]\n",
    "\n",
    "print(\"Number of features: {}\".format(solution.q_1_4))"
   ]
  },
  {
   "cell_type": "markdown",
   "metadata": {},
   "source": [
    "#### Answer 2.1: A flexible pipeline (2p)"
   ]
  },
  {
   "cell_type": "code",
   "execution_count": 8,
   "metadata": {
    "execution": {
     "iopub.execute_input": "2022-03-28T14:47:38.388820Z",
     "iopub.status.busy": "2022-03-28T14:47:38.384451Z",
     "iopub.status.idle": "2022-03-28T14:47:38.559960Z",
     "shell.execute_reply": "2022-03-28T14:47:38.560193Z"
    },
    "tags": [
     "hide_input"
    ]
   },
   "outputs": [
    {
     "name": "stdout",
     "output_type": "stream",
     "text": [
      "Pipeline sanity check passed\n"
     ]
    }
   ],
   "source": [
    "from sklearn.preprocessing import StandardScaler, OneHotEncoder\n",
    "try:\n",
    "    solution.flexible_pipeline(X, DecisionTreeRegressor(random_state=0), encoder=OneHotEncoder()).fit(X,y)\n",
    "    print(\"Pipeline sanity check passed\")\n",
    "except:\n",
    "    print(\"Pipeline did not run correctly. Please fix.\")"
   ]
  },
  {
   "cell_type": "markdown",
   "metadata": {},
   "source": [
    "#### Answer 2.2: Comparing encoders (4p)"
   ]
  },
  {
   "cell_type": "code",
   "execution_count": 9,
   "metadata": {
    "execution": {
     "iopub.execute_input": "2022-03-28T14:47:38.563309Z",
     "iopub.status.busy": "2022-03-28T14:47:38.563007Z",
     "iopub.status.idle": "2022-03-28T14:51:14.273520Z",
     "shell.execute_reply": "2022-03-28T14:51:14.273734Z"
    },
    "tags": [
     "hide_input"
    ]
   },
   "outputs": [
    {
     "data": {
      "image/png": "[encoded data removed]",
      "text/plain": [
       "<Figure size 720x216 with 2 Axes>"
      ]
     },
     "metadata": {},
     "output_type": "display_data"
    }
   ],
   "source": [
    "solution.plot_2_2(X, y)"
   ]
  },
  {
   "cell_type": "markdown",
   "metadata": {},
   "source": [
    "#### Answer 2.3: Interpretation (2p)"
   ]
  },
  {
   "cell_type": "code",
   "execution_count": 10,
   "metadata": {
    "execution": {
     "iopub.execute_input": "2022-03-28T14:51:14.277010Z",
     "iopub.status.busy": "2022-03-28T14:51:14.276710Z",
     "iopub.status.idle": "2022-03-28T14:51:14.277995Z",
     "shell.execute_reply": "2022-03-28T14:51:14.278199Z"
    },
    "tags": [
     "hide_input"
    ]
   },
   "outputs": [],
   "source": [
    "mc23 = {'A': \"The best performance with one-hot-encoders is seen with linear models, since they can learn complex functions in the high-dimensional space created by one-hot-encoders.\",\n",
    "        'B': \"The linear models work well, no matter the encoding.\",\n",
    "        'C': \"The linear models do not work well with ordinal encoding, since linear models will assume that the ordering implies a meaningful distance between categories.\",\n",
    "        'D': \"The best performance is seen with RandomForests and Gradient Boosting\",\n",
    "        'E': \"Decision-tree based ensembles work well with ordinal encodings (better than linear models), since they can build sub-trees for each individual encoder value.\",\n",
    "        'F': \"Decision-tree based ensembles do not work well with ordinal encodings, because the ordering is meaningless in this case.\",\n",
    "        'G': \"Decision-tree based ensembles work well with ordinal encodings, because they can make good use of the ordering of the categories.\",\n",
    "        'H': \"Decision-tree based ensembles can handle different kinds of encodings rather well.\",\n",
    "        'I': \"Target encoding works generally well because it captures key information in one or a few features without significantly increasing the dimensionality of the data, like one-hot encoders do.\",\n",
    "        'J': \"Target encoding doesn't work well for regression problems since it only creates one new feature.\",\n",
    "        'K': \"Target encoding does not work well here, likely because the categorical features are quite skewed, with only a few examples of some categories.\",\n",
    "        'L': \"No answer\"\n",
    "    }"
   ]
  },
  {
   "cell_type": "code",
   "execution_count": 11,
   "metadata": {
    "execution": {
     "iopub.execute_input": "2022-03-28T14:51:14.280464Z",
     "iopub.status.busy": "2022-03-28T14:51:14.280108Z",
     "iopub.status.idle": "2022-03-28T14:51:14.281443Z",
     "shell.execute_reply": "2022-03-28T14:51:14.281633Z"
    },
    "tags": [
     "hide_input"
    ]
   },
   "outputs": [
    {
     "name": "stdout",
     "output_type": "stream",
     "text": [
      "A : The best performance with one-hot-encoders is seen with linear models, since they can learn complex functions in the high-dimensional space created by one-hot-encoders.\n",
      "C : The linear models do not work well with ordinal encoding, since linear models will assume that the ordering implies a meaningful distance between categories.\n",
      "D : The best performance is seen with RandomForests and Gradient Boosting\n",
      "H : Decision-tree based ensembles can handle different kinds of encodings rather well.\n",
      "I : Target encoding works generally well because it captures key information in one or a few features without significantly increasing the dimensionality of the data, like one-hot encoders do.\n"
     ]
    }
   ],
   "source": [
    "for a in solution.q_2_3.split(\",\"):\n",
    "    if a in mc23:\n",
    "        print(a,\":\",mc23[a])\n",
    "    else:\n",
    "        print(\"Invalid response!\")"
   ]
  },
  {
   "cell_type": "markdown",
   "metadata": {
    "tags": []
   },
   "source": [
    "#### Answer 2.4: Categorical Feature Embeddings (6p)"
   ]
  },
  {
   "cell_type": "code",
   "execution_count": 12,
   "metadata": {
    "execution": {
     "iopub.execute_input": "2022-03-28T14:51:14.284183Z",
     "iopub.status.busy": "2022-03-28T14:51:14.282744Z",
     "iopub.status.idle": "2022-03-28T14:51:43.689629Z",
     "shell.execute_reply": "2022-03-28T14:51:43.690136Z"
    },
    "tags": [
     "hide_input"
    ]
   },
   "outputs": [
    {
     "data": {
      "image/png": "[encoded data removed]",
      "text/plain": [
       "<Figure size 720x576 with 1 Axes>"
      ]
     },
     "metadata": {},
     "output_type": "display_data"
    }
   ],
   "source": [
    "X_embed = solution.create_embeddings(X, y)\n",
    "X_embed_reduced = solution.compute_tsne(X_embed)\n",
    "solution.plot_tsne(X_embed_reduced, y)"
   ]
  },
  {
   "cell_type": "code",
   "execution_count": 13,
   "metadata": {
    "execution": {
     "iopub.execute_input": "2022-03-28T14:51:43.692826Z",
     "iopub.status.busy": "2022-03-28T14:51:43.692427Z",
     "iopub.status.idle": "2022-03-28T14:51:43.693932Z",
     "shell.execute_reply": "2022-03-28T14:51:43.694339Z"
    },
    "tags": [
     "hide_input"
    ]
   },
   "outputs": [],
   "source": [
    "mc24 = {'A': \"Some groups of employees clearly clusters together\",\n",
    "        'B': \"The result is entirely random because the embedding doesn't manage to preserve the information in the original data.\",\n",
    "        'C': \"Some groups of employees with a high salary cluster together\",\n",
    "        'D': \"Some groups of employees with a low salary cluster together\",\n",
    "        'E': \"The clusters are all clearly delineated\",\n",
    "        'F': \"No answer\"\n",
    "       }"
   ]
  },
  {
   "cell_type": "code",
   "execution_count": 14,
   "metadata": {
    "execution": {
     "iopub.execute_input": "2022-03-28T14:51:43.697111Z",
     "iopub.status.busy": "2022-03-28T14:51:43.696554Z",
     "iopub.status.idle": "2022-03-28T14:51:43.698189Z",
     "shell.execute_reply": "2022-03-28T14:51:43.698438Z"
    },
    "tags": [
     "hide_input"
    ]
   },
   "outputs": [
    {
     "name": "stdout",
     "output_type": "stream",
     "text": [
      "D : Some groups of employees with a low salary cluster together\n"
     ]
    }
   ],
   "source": [
    "for a in solution.q_2_4.split(\",\"):\n",
    "    if a in mc24:\n",
    "        print(a,\":\",mc24[a])\n",
    "    else:\n",
    "        print(\"Invalid response!\")"
   ]
  },
  {
   "cell_type": "markdown",
   "metadata": {},
   "source": [
    "#### Answer 2.5: Compare again (2p)"
   ]
  },
  {
   "cell_type": "code",
   "execution_count": 15,
   "metadata": {
    "execution": {
     "iopub.execute_input": "2022-03-28T14:51:43.701314Z",
     "iopub.status.busy": "2022-03-28T14:51:43.700646Z",
     "iopub.status.idle": "2022-03-28T14:57:14.024512Z",
     "shell.execute_reply": "2022-03-28T14:57:14.024780Z"
    },
    "tags": [
     "hide_input"
    ]
   },
   "outputs": [
    {
     "data": {
      "image/png": "[encoded data removed]",
      "text/plain": [
       "<Figure size 720x216 with 2 Axes>"
      ]
     },
     "metadata": {},
     "output_type": "display_data"
    }
   ],
   "source": [
    "solution.plot_2_5(X,y)"
   ]
  },
  {
   "cell_type": "code",
   "execution_count": 16,
   "metadata": {
    "execution": {
     "iopub.execute_input": "2022-03-28T14:57:14.026969Z",
     "iopub.status.busy": "2022-03-28T14:57:14.026676Z",
     "iopub.status.idle": "2022-03-28T14:57:14.027824Z",
     "shell.execute_reply": "2022-03-28T14:57:14.028050Z"
    },
    "tags": [
     "hide_input"
    ]
   },
   "outputs": [],
   "source": [
    "mc25 = {'A': \"We get the best results so far, especially with the random forests and gradient boosting.\",\n",
    "        'B': \"The results are about the same as the one-hot-encoder we saw in question 2.2.\",\n",
    "        'C': \"The learned embeddings seems useful to capture information about which categories are similar (e.g. which employee positions are similar). \",\n",
    "        'D': \"Embeddings don't work well for decision-tree based models, one-hot encoding works much better.\",\n",
    "        'E': \"No answer\"\n",
    "       }"
   ]
  },
  {
   "cell_type": "code",
   "execution_count": 17,
   "metadata": {
    "execution": {
     "iopub.execute_input": "2022-03-28T14:57:14.030625Z",
     "iopub.status.busy": "2022-03-28T14:57:14.030143Z",
     "iopub.status.idle": "2022-03-28T14:57:14.031575Z",
     "shell.execute_reply": "2022-03-28T14:57:14.031760Z"
    },
    "tags": [
     "hide_input"
    ]
   },
   "outputs": [
    {
     "name": "stdout",
     "output_type": "stream",
     "text": [
      "E : No answer\n"
     ]
    }
   ],
   "source": [
    "for a in solution.q_2_5.split(\",\"):\n",
    "    if a in mc25:\n",
    "        print(a,\":\",mc25[a])\n",
    "    else:\n",
    "        print(\"Invalid response!\")"
   ]
  },
  {
   "cell_type": "markdown",
   "metadata": {},
   "source": [
    "#### Answer 3.1: Model-based feature importance (4p)"
   ]
  },
  {
   "cell_type": "code",
   "execution_count": 18,
   "metadata": {
    "execution": {
     "iopub.execute_input": "2022-03-28T14:57:14.034335Z",
     "iopub.status.busy": "2022-03-28T14:57:14.034018Z",
     "iopub.status.idle": "2022-03-28T14:57:36.876983Z",
     "shell.execute_reply": "2022-03-28T14:57:36.877225Z"
    },
    "tags": [
     "hide_input"
    ]
   },
   "outputs": [
    {
     "data": {
      "image/png": "[encoded data removed]",
      "text/plain": [
       "<Figure size 864x432 with 2 Axes>"
      ]
     },
     "metadata": {},
     "output_type": "display_data"
    }
   ],
   "source": [
    "solution.plot_3_1(X,y)"
   ]
  },
  {
   "cell_type": "markdown",
   "metadata": {},
   "source": [
    "#### Answer 3.2: Interpretation (2p)"
   ]
  },
  {
   "cell_type": "code",
   "execution_count": 19,
   "metadata": {
    "execution": {
     "iopub.execute_input": "2022-03-28T14:57:36.879765Z",
     "iopub.status.busy": "2022-03-28T14:57:36.879465Z",
     "iopub.status.idle": "2022-03-28T14:57:36.880795Z",
     "shell.execute_reply": "2022-03-28T14:57:36.880967Z"
    },
    "tags": [
     "hide_input"
    ]
   },
   "outputs": [],
   "source": [
    "mc32 = {'A': \"The exact ranking differs a bit because, due to the one-hot-encoding, we get an importance per category in the the model-based feature importances.\",\n",
    "        'B': \"Overall, the results are quite similar. The year of first hire, assignment category (fulltime/parttime), and the position title have the most influence on salary.\",\n",
    "        'C': \"There are some key differences. Some of the most important features in one method are the least important in the other.\",\n",
    "        'D': \"Only some job categories (employee positions) affect salary greatly (e.g. manager)\",\n",
    "        'E': \"Gender only shows up in the permutation importances, and with a very low importance.\",\n",
    "        'F': \"Gender is important according to both methods.\",\n",
    "        'H': \"Year of first hire is not important according to both methods.\",\n",
    "        'G': \"Year of first hire is very important according to one method, yet not at all important by the other.\",\n",
    "        'I': \"Year of first hire is important according to both methods.\",\n",
    "        'J': \"No answer\"\n",
    "       }"
   ]
  },
  {
   "cell_type": "code",
   "execution_count": 20,
   "metadata": {
    "execution": {
     "iopub.execute_input": "2022-03-28T14:57:36.883203Z",
     "iopub.status.busy": "2022-03-28T14:57:36.882857Z",
     "iopub.status.idle": "2022-03-28T14:57:36.884354Z",
     "shell.execute_reply": "2022-03-28T14:57:36.884536Z"
    },
    "tags": [
     "hide_input"
    ]
   },
   "outputs": [
    {
     "name": "stdout",
     "output_type": "stream",
     "text": [
      "A : The exact ranking differs a bit because, due to the one-hot-encoding, we get an importance per category in the the model-based feature importances.\n",
      "B : Overall, the results are quite similar. The year of first hire, assignment category (fulltime/parttime), and the position title have the most influence on salary.\n",
      "D : Only some job categories (employee positions) affect salary greatly (e.g. manager)\n",
      "E : Gender only shows up in the permutation importances, and with a very low importance.\n",
      "I : Year of first hire is important according to both methods.\n"
     ]
    }
   ],
   "source": [
    "for a in solution.q_3_2.split(\",\"):\n",
    "    if a in mc32:\n",
    "        print(a,\":\",mc32[a])\n",
    "    else:\n",
    "        print(\"Invalid response!\")"
   ]
  },
  {
   "cell_type": "markdown",
   "metadata": {},
   "source": [
    "#### Answer 4.1: Gender bias (3p)"
   ]
  },
  {
   "cell_type": "code",
   "execution_count": 21,
   "metadata": {
    "execution": {
     "iopub.execute_input": "2022-03-28T14:57:36.886951Z",
     "iopub.status.busy": "2022-03-28T14:57:36.886671Z",
     "iopub.status.idle": "2022-03-28T14:57:47.225277Z",
     "shell.execute_reply": "2022-03-28T14:57:47.225483Z"
    },
    "tags": [
     "hide_input"
    ]
   },
   "outputs": [
    {
     "data": {
      "text/plain": [
       "<AxesSubplot:title={'center':'R2 score'}>"
      ]
     },
     "execution_count": 21,
     "metadata": {},
     "output_type": "execute_result"
    },
    {
     "data": {
      "image/png": "[encoded data removed]",
      "text/plain": [
       "<Figure size 288x288 with 1 Axes>"
      ]
     },
     "metadata": {},
     "output_type": "display_data"
    }
   ],
   "source": [
    "solution.plot_4_1(X,y)"
   ]
  },
  {
   "cell_type": "code",
   "execution_count": 22,
   "metadata": {
    "execution": {
     "iopub.execute_input": "2022-03-28T14:57:47.228094Z",
     "iopub.status.busy": "2022-03-28T14:57:47.227395Z",
     "iopub.status.idle": "2022-03-28T14:57:47.229178Z",
     "shell.execute_reply": "2022-03-28T14:57:47.229444Z"
    },
    "tags": [
     "hide_input"
    ]
   },
   "outputs": [],
   "source": [
    "mc41 = {'A': \"The model is much more accurate (more than 1% accuracy difference) in predicting the salaries for males than for females.\",\n",
    "        'B': \"The model is about equally accurate for both males and females.\",\n",
    "        'C': \"Salaries are equal for both genders.\",\n",
    "        'D': \"The model doesn't seem to be biased.\",\n",
    "        'E': \"The model is clearly biased.\",\n",
    "        'F': \"No answer\"\n",
    "       }"
   ]
  },
  {
   "cell_type": "code",
   "execution_count": 23,
   "metadata": {
    "execution": {
     "iopub.execute_input": "2022-03-28T14:57:47.231874Z",
     "iopub.status.busy": "2022-03-28T14:57:47.231461Z",
     "iopub.status.idle": "2022-03-28T14:57:47.232659Z",
     "shell.execute_reply": "2022-03-28T14:57:47.233037Z"
    },
    "tags": [
     "hide_input"
    ]
   },
   "outputs": [
    {
     "name": "stdout",
     "output_type": "stream",
     "text": [
      "B : The model is about equally accurate for both males and females.\n",
      "D : The model doesn't seem to be biased.\n"
     ]
    }
   ],
   "source": [
    "for a in solution.q_4_1.split(\",\"):\n",
    "    if a in mc41:\n",
    "        print(a,\":\",mc41[a])\n",
    "    else:\n",
    "        print(\"Invalid response!\")"
   ]
  },
  {
   "cell_type": "markdown",
   "metadata": {},
   "source": [
    "#### Answer 4.2: Instance reweighting (3p)"
   ]
  },
  {
   "cell_type": "code",
   "execution_count": 24,
   "metadata": {
    "execution": {
     "iopub.execute_input": "2022-03-28T14:57:47.237519Z",
     "iopub.status.busy": "2022-03-28T14:57:47.236776Z",
     "iopub.status.idle": "2022-03-28T14:57:58.033857Z",
     "shell.execute_reply": "2022-03-28T14:57:58.034058Z"
    },
    "tags": [
     "hide_input"
    ]
   },
   "outputs": [
    {
     "data": {
      "text/plain": [
       "<AxesSubplot:title={'center':'R2 score'}>"
      ]
     },
     "execution_count": 24,
     "metadata": {},
     "output_type": "execute_result"
    },
    {
     "data": {
      "image/png": "[encoded data removed]",
      "text/plain": [
       "<Figure size 288x288 with 1 Axes>"
      ]
     },
     "metadata": {},
     "output_type": "display_data"
    }
   ],
   "source": [
    "solution.plot_4_2(X,y)"
   ]
  },
  {
   "cell_type": "code",
   "execution_count": 25,
   "metadata": {
    "execution": {
     "iopub.execute_input": "2022-03-28T14:57:58.036897Z",
     "iopub.status.busy": "2022-03-28T14:57:58.036533Z",
     "iopub.status.idle": "2022-03-28T14:57:58.037955Z",
     "shell.execute_reply": "2022-03-28T14:57:58.038213Z"
    },
    "tags": [
     "hide_input"
    ]
   },
   "outputs": [],
   "source": [
    "mc42 = {'A': \"The model is now much better at predicting the salaries of females.\",\n",
    "        'B': \"The model is now much worse at predicting the salaries of females.\",\n",
    "        'C': \"The model is only marginally better at predicting the salaries of females than before.\",\n",
    "        'D': \"Salaries are now equal for both genders.\",\n",
    "        'E': \"The unbalance between males and females was not so large, and the model was already quite good, so the instance weighting didn't do much.\",\n",
    "        'F': \"The model still is clearly biased.\",\n",
    "        'G': \"No answer\"\n",
    "       }"
   ]
  },
  {
   "cell_type": "code",
   "execution_count": 26,
   "metadata": {
    "execution": {
     "iopub.execute_input": "2022-03-28T14:57:58.040848Z",
     "iopub.status.busy": "2022-03-28T14:57:58.040420Z",
     "iopub.status.idle": "2022-03-28T14:57:58.041647Z",
     "shell.execute_reply": "2022-03-28T14:57:58.041890Z"
    },
    "tags": [
     "hide_input"
    ]
   },
   "outputs": [
    {
     "name": "stdout",
     "output_type": "stream",
     "text": [
      "E : The unbalance between males and females was not so large, and the model was already quite good, so the instance weighting didn't do much.\n"
     ]
    }
   ],
   "source": [
    "for a in solution.q_4_2.split(\",\"):\n",
    "    if a in mc42:\n",
    "        print(a,\":\",mc42[a])\n",
    "    else:\n",
    "        print(\"Invalid response!\")"
   ]
  },
  {
   "cell_type": "code",
   "execution_count": 27,
   "metadata": {
    "execution": {
     "iopub.execute_input": "2022-03-28T14:57:58.044443Z",
     "iopub.status.busy": "2022-03-28T14:57:58.044132Z",
     "iopub.status.idle": "2022-03-28T14:57:58.045488Z",
     "shell.execute_reply": "2022-03-28T14:57:58.045683Z"
    },
    "tags": [
     "hide_input"
    ]
   },
   "outputs": [
    {
     "name": "stdout",
     "output_type": "stream",
     "text": [
      "Running time: 688.07 seconds\n",
      "Last modified: March 28, 2022\n",
      "scikit-learn version: 1.0.2\n"
     ]
    }
   ],
   "source": [
    "end_verify = time.time()\n",
    "print(\"Running time: {:.2f} seconds\".format(end_verify - start_verify))\n",
    "print(\"Last modified: {}\".format(solution.last_edit))\n",
    "print(\"scikit-learn version: {0}\".format(solution.sklearn_version))"
   ]
  },
  {
   "cell_type": "code",
   "execution_count": null,
   "metadata": {},
   "outputs": [],
   "source": []
  }
 ],
 "metadata": {
  "kernelspec": {
   "display_name": "Python 3 (ipykernel)",
   "language": "python",
   "name": "python3"
  },
  "language_info": {
   "codemirror_mode": {
    "name": "ipython",
    "version": 3
   },
   "file_extension": ".py",
   "mimetype": "text/x-python",
   "name": "python",
   "nbconvert_exporter": "python",
   "pygments_lexer": "ipython3",
   "version": "3.9.10"
  },
  "toc-autonumbering": false,
  "toc-showcode": false,
  "toc-showmarkdowntxt": true,
  "toc-showtags": false,
  "widgets": {
   "application/vnd.jupyter.widget-state+json": {
    "state": {
     "0f3fe333b321499994b44f50b1f5ab08": {
      "model_module": "@jupyter-widgets/controls",
      "model_module_version": "1.5.0",
      "model_name": "DescriptionStyleModel",
      "state": {
       "_model_module": "@jupyter-widgets/controls",
       "_model_module_version": "1.5.0",
       "_model_name": "DescriptionStyleModel",
       "_view_count": null,
       "_view_module": "@jupyter-widgets/base",
       "_view_module_version": "1.2.0",
       "_view_name": "StyleView",
       "description_width": ""
      }
     },
     "1dc021f6894c42299bd3123177f9fdbf": {
      "model_module": "@jupyter-widgets/controls",
      "model_module_version": "1.5.0",
      "model_name": "HTMLModel",
      "state": {
       "_dom_classes": [],
       "_model_module": "@jupyter-widgets/controls",
       "_model_module_version": "1.5.0",
       "_model_name": "HTMLModel",
       "_view_count": null,
       "_view_module": "@jupyter-widgets/controls",
       "_view_module_version": "1.5.0",
       "_view_name": "HTMLView",
       "description": "",
       "description_tooltip": null,
       "layout": "IPY_MODEL_d6f100df9d524cd0b72cd22033135a9e",
       "placeholder": "​",
       "style": "IPY_MODEL_2e93c20de66f48ab8303d6e81660506b",
       "value": "100%"
      }
     },
     "2038334702164efc94a9cb0244e7cd8f": {
      "model_module": "@jupyter-widgets/controls",
      "model_module_version": "1.5.0",
      "model_name": "ProgressStyleModel",
      "state": {
       "_model_module": "@jupyter-widgets/controls",
       "_model_module_version": "1.5.0",
       "_model_name": "ProgressStyleModel",
       "_view_count": null,
       "_view_module": "@jupyter-widgets/base",
       "_view_module_version": "1.2.0",
       "_view_name": "StyleView",
       "bar_color": null,
       "description_width": ""
      }
     },
     "2d9c7143c32c411cb6de875879bd7267": {
      "model_module": "@jupyter-widgets/controls",
      "model_module_version": "1.5.0",
      "model_name": "HTMLModel",
      "state": {
       "_dom_classes": [],
       "_model_module": "@jupyter-widgets/controls",
       "_model_module_version": "1.5.0",
       "_model_name": "HTMLModel",
       "_view_count": null,
       "_view_module": "@jupyter-widgets/controls",
       "_view_module_version": "1.5.0",
       "_view_name": "HTMLView",
       "description": "",
       "description_tooltip": null,
       "layout": "IPY_MODEL_9c0c5556dcb54184abd08b9fb740c1c2",
       "placeholder": "​",
       "style": "IPY_MODEL_30a524173dde4602ac22e8fd5b102750",
       "value": " 2/2 [00:24&lt;00:00, 15.86s/it]"
      }
     },
     "2daf7d4905684eafacf8cc03c4a73237": {
      "model_module": "@jupyter-widgets/base",
      "model_module_version": "1.2.0",
      "model_name": "LayoutModel",
      "state": {
       "_model_module": "@jupyter-widgets/base",
       "_model_module_version": "1.2.0",
       "_model_name": "LayoutModel",
       "_view_count": null,
       "_view_module": "@jupyter-widgets/base",
       "_view_module_version": "1.2.0",
       "_view_name": "LayoutView",
       "align_content": null,
       "align_items": null,
       "align_self": null,
       "border": null,
       "bottom": null,
       "display": null,
       "flex": null,
       "flex_flow": null,
       "grid_area": null,
       "grid_auto_columns": null,
       "grid_auto_flow": null,
       "grid_auto_rows": null,
       "grid_column": null,
       "grid_gap": null,
       "grid_row": null,
       "grid_template_areas": null,
       "grid_template_columns": null,
       "grid_template_rows": null,
       "height": null,
       "justify_content": null,
       "justify_items": null,
       "left": null,
       "margin": null,
       "max_height": null,
       "max_width": null,
       "min_height": null,
       "min_width": null,
       "object_fit": null,
       "object_position": null,
       "order": null,
       "overflow": null,
       "overflow_x": null,
       "overflow_y": null,
       "padding": null,
       "right": null,
       "top": null,
       "visibility": null,
       "width": null
      }
     },
     "2e93c20de66f48ab8303d6e81660506b": {
      "model_module": "@jupyter-widgets/controls",
      "model_module_version": "1.5.0",
      "model_name": "DescriptionStyleModel",
      "state": {
       "_model_module": "@jupyter-widgets/controls",
       "_model_module_version": "1.5.0",
       "_model_name": "DescriptionStyleModel",
       "_view_count": null,
       "_view_module": "@jupyter-widgets/base",
       "_view_module_version": "1.2.0",
       "_view_name": "StyleView",
       "description_width": ""
      }
     },
     "30a524173dde4602ac22e8fd5b102750": {
      "model_module": "@jupyter-widgets/controls",
      "model_module_version": "1.5.0",
      "model_name": "DescriptionStyleModel",
      "state": {
       "_model_module": "@jupyter-widgets/controls",
       "_model_module_version": "1.5.0",
       "_model_name": "DescriptionStyleModel",
       "_view_count": null,
       "_view_module": "@jupyter-widgets/base",
       "_view_module_version": "1.2.0",
       "_view_name": "StyleView",
       "description_width": ""
      }
     },
     "38f9de33d38a4dbca461515fdf3a089f": {
      "model_module": "@jupyter-widgets/controls",
      "model_module_version": "1.5.0",
      "model_name": "DescriptionStyleModel",
      "state": {
       "_model_module": "@jupyter-widgets/controls",
       "_model_module_version": "1.5.0",
       "_model_name": "DescriptionStyleModel",
       "_view_count": null,
       "_view_module": "@jupyter-widgets/base",
       "_view_module_version": "1.2.0",
       "_view_name": "StyleView",
       "description_width": ""
      }
     },
     "3ca7eaefc54747acb699c71d07fbc7ff": {
      "model_module": "@jupyter-widgets/controls",
      "model_module_version": "1.5.0",
      "model_name": "DescriptionStyleModel",
      "state": {
       "_model_module": "@jupyter-widgets/controls",
       "_model_module_version": "1.5.0",
       "_model_name": "DescriptionStyleModel",
       "_view_count": null,
       "_view_module": "@jupyter-widgets/base",
       "_view_module_version": "1.2.0",
       "_view_name": "StyleView",
       "description_width": ""
      }
     },
     "467a7c90cde144488ff65ab2a88da763": {
      "model_module": "@jupyter-widgets/base",
      "model_module_version": "1.2.0",
      "model_name": "LayoutModel",
      "state": {
       "_model_module": "@jupyter-widgets/base",
       "_model_module_version": "1.2.0",
       "_model_name": "LayoutModel",
       "_view_count": null,
       "_view_module": "@jupyter-widgets/base",
       "_view_module_version": "1.2.0",
       "_view_name": "LayoutView",
       "align_content": null,
       "align_items": null,
       "align_self": null,
       "border": null,
       "bottom": null,
       "display": null,
       "flex": null,
       "flex_flow": null,
       "grid_area": null,
       "grid_auto_columns": null,
       "grid_auto_flow": null,
       "grid_auto_rows": null,
       "grid_column": null,
       "grid_gap": null,
       "grid_row": null,
       "grid_template_areas": null,
       "grid_template_columns": null,
       "grid_template_rows": null,
       "height": null,
       "justify_content": null,
       "justify_items": null,
       "left": null,
       "margin": null,
       "max_height": null,
       "max_width": null,
       "min_height": null,
       "min_width": null,
       "object_fit": null,
       "object_position": null,
       "order": null,
       "overflow": null,
       "overflow_x": null,
       "overflow_y": null,
       "padding": null,
       "right": null,
       "top": null,
       "visibility": null,
       "width": null
      }
     },
     "4da7818961344eaebcd607cbdeab554d": {
      "model_module": "@jupyter-widgets/controls",
      "model_module_version": "1.5.0",
      "model_name": "FloatProgressModel",
      "state": {
       "_dom_classes": [],
       "_model_module": "@jupyter-widgets/controls",
       "_model_module_version": "1.5.0",
       "_model_name": "FloatProgressModel",
       "_view_count": null,
       "_view_module": "@jupyter-widgets/controls",
       "_view_module_version": "1.5.0",
       "_view_name": "ProgressView",
       "bar_style": "",
       "description": "",
       "description_tooltip": null,
       "layout": "IPY_MODEL_d4fc3a9a531d4f1ea237c8d89c31b66d",
       "max": 2,
       "min": 0,
       "orientation": "horizontal",
       "style": "IPY_MODEL_2038334702164efc94a9cb0244e7cd8f",
       "value": 2
      }
     },
     "58d1c8cd09f44a2e8be870715a21d6b0": {
      "model_module": "@jupyter-widgets/controls",
      "model_module_version": "1.5.0",
      "model_name": "FloatProgressModel",
      "state": {
       "_dom_classes": [],
       "_model_module": "@jupyter-widgets/controls",
       "_model_module_version": "1.5.0",
       "_model_name": "FloatProgressModel",
       "_view_count": null,
       "_view_module": "@jupyter-widgets/controls",
       "_view_module_version": "1.5.0",
       "_view_name": "ProgressView",
       "bar_style": "",
       "description": "",
       "description_tooltip": null,
       "layout": "IPY_MODEL_ceb2832eddeb43dcb1f18f050f5db51d",
       "max": 2,
       "min": 0,
       "orientation": "horizontal",
       "style": "IPY_MODEL_ee88026cc23a447c93ecbdb1ef76d462",
       "value": 2
      }
     },
     "5a14f04167b64ae4b2190ebbd891d346": {
      "model_module": "@jupyter-widgets/controls",
      "model_module_version": "1.5.0",
      "model_name": "HTMLModel",
      "state": {
       "_dom_classes": [],
       "_model_module": "@jupyter-widgets/controls",
       "_model_module_version": "1.5.0",
       "_model_name": "HTMLModel",
       "_view_count": null,
       "_view_module": "@jupyter-widgets/controls",
       "_view_module_version": "1.5.0",
       "_view_name": "HTMLView",
       "description": "",
       "description_tooltip": null,
       "layout": "IPY_MODEL_2daf7d4905684eafacf8cc03c4a73237",
       "placeholder": "​",
       "style": "IPY_MODEL_66ba3569a47e4998ae27371e176bb55e",
       "value": " 2/2 [00:22&lt;00:00, 14.71s/it]"
      }
     },
     "5c931061afc144bd89d0af580fd226c3": {
      "model_module": "@jupyter-widgets/base",
      "model_module_version": "1.2.0",
      "model_name": "LayoutModel",
      "state": {
       "_model_module": "@jupyter-widgets/base",
       "_model_module_version": "1.2.0",
       "_model_name": "LayoutModel",
       "_view_count": null,
       "_view_module": "@jupyter-widgets/base",
       "_view_module_version": "1.2.0",
       "_view_name": "LayoutView",
       "align_content": null,
       "align_items": null,
       "align_self": null,
       "border": null,
       "bottom": null,
       "display": null,
       "flex": null,
       "flex_flow": null,
       "grid_area": null,
       "grid_auto_columns": null,
       "grid_auto_flow": null,
       "grid_auto_rows": null,
       "grid_column": null,
       "grid_gap": null,
       "grid_row": null,
       "grid_template_areas": null,
       "grid_template_columns": null,
       "grid_template_rows": null,
       "height": null,
       "justify_content": null,
       "justify_items": null,
       "left": null,
       "margin": null,
       "max_height": null,
       "max_width": null,
       "min_height": null,
       "min_width": null,
       "object_fit": null,
       "object_position": null,
       "order": null,
       "overflow": null,
       "overflow_x": null,
       "overflow_y": null,
       "padding": null,
       "right": null,
       "top": null,
       "visibility": null,
       "width": null
      }
     },
     "66ba3569a47e4998ae27371e176bb55e": {
      "model_module": "@jupyter-widgets/controls",
      "model_module_version": "1.5.0",
      "model_name": "DescriptionStyleModel",
      "state": {
       "_model_module": "@jupyter-widgets/controls",
       "_model_module_version": "1.5.0",
       "_model_name": "DescriptionStyleModel",
       "_view_count": null,
       "_view_module": "@jupyter-widgets/base",
       "_view_module_version": "1.2.0",
       "_view_name": "StyleView",
       "description_width": ""
      }
     },
     "6e497e1449744ef9912a7784131307db": {
      "model_module": "@jupyter-widgets/controls",
      "model_module_version": "1.5.0",
      "model_name": "HTMLModel",
      "state": {
       "_dom_classes": [],
       "_model_module": "@jupyter-widgets/controls",
       "_model_module_version": "1.5.0",
       "_model_name": "HTMLModel",
       "_view_count": null,
       "_view_module": "@jupyter-widgets/controls",
       "_view_module_version": "1.5.0",
       "_view_name": "HTMLView",
       "description": "",
       "description_tooltip": null,
       "layout": "IPY_MODEL_5c931061afc144bd89d0af580fd226c3",
       "placeholder": "​",
       "style": "IPY_MODEL_3ca7eaefc54747acb699c71d07fbc7ff",
       "value": "100%"
      }
     },
     "85490a8a375842cb8dc0814cc87c4ea6": {
      "model_module": "@jupyter-widgets/controls",
      "model_module_version": "1.5.0",
      "model_name": "HBoxModel",
      "state": {
       "_dom_classes": [],
       "_model_module": "@jupyter-widgets/controls",
       "_model_module_version": "1.5.0",
       "_model_name": "HBoxModel",
       "_view_count": null,
       "_view_module": "@jupyter-widgets/controls",
       "_view_module_version": "1.5.0",
       "_view_name": "HBoxView",
       "box_style": "",
       "children": [
        "IPY_MODEL_6e497e1449744ef9912a7784131307db",
        "IPY_MODEL_87c3eefe49f146b4b6488dccb86c67e6",
        "IPY_MODEL_5a14f04167b64ae4b2190ebbd891d346"
       ],
       "layout": "IPY_MODEL_d0f568996f1f47fbb68420b32c458731"
      }
     },
     "87c3eefe49f146b4b6488dccb86c67e6": {
      "model_module": "@jupyter-widgets/controls",
      "model_module_version": "1.5.0",
      "model_name": "FloatProgressModel",
      "state": {
       "_dom_classes": [],
       "_model_module": "@jupyter-widgets/controls",
       "_model_module_version": "1.5.0",
       "_model_name": "FloatProgressModel",
       "_view_count": null,
       "_view_module": "@jupyter-widgets/controls",
       "_view_module_version": "1.5.0",
       "_view_name": "ProgressView",
       "bar_style": "",
       "description": "",
       "description_tooltip": null,
       "layout": "IPY_MODEL_c9d831e9c2e04dd9ade089975b71640f",
       "max": 2,
       "min": 0,
       "orientation": "horizontal",
       "style": "IPY_MODEL_c7c9080abef8493cbf6d28ac70235222",
       "value": 2
      }
     },
     "913379e325a94080a5fd576c867f8705": {
      "model_module": "@jupyter-widgets/base",
      "model_module_version": "1.2.0",
      "model_name": "LayoutModel",
      "state": {
       "_model_module": "@jupyter-widgets/base",
       "_model_module_version": "1.2.0",
       "_model_name": "LayoutModel",
       "_view_count": null,
       "_view_module": "@jupyter-widgets/base",
       "_view_module_version": "1.2.0",
       "_view_name": "LayoutView",
       "align_content": null,
       "align_items": null,
       "align_self": null,
       "border": null,
       "bottom": null,
       "display": null,
       "flex": null,
       "flex_flow": null,
       "grid_area": null,
       "grid_auto_columns": null,
       "grid_auto_flow": null,
       "grid_auto_rows": null,
       "grid_column": null,
       "grid_gap": null,
       "grid_row": null,
       "grid_template_areas": null,
       "grid_template_columns": null,
       "grid_template_rows": null,
       "height": null,
       "justify_content": null,
       "justify_items": null,
       "left": null,
       "margin": null,
       "max_height": null,
       "max_width": null,
       "min_height": null,
       "min_width": null,
       "object_fit": null,
       "object_position": null,
       "order": null,
       "overflow": null,
       "overflow_x": null,
       "overflow_y": null,
       "padding": null,
       "right": null,
       "top": null,
       "visibility": null,
       "width": null
      }
     },
     "91a9ab582dad4dcb9284082ea148c682": {
      "model_module": "@jupyter-widgets/base",
      "model_module_version": "1.2.0",
      "model_name": "LayoutModel",
      "state": {
       "_model_module": "@jupyter-widgets/base",
       "_model_module_version": "1.2.0",
       "_model_name": "LayoutModel",
       "_view_count": null,
       "_view_module": "@jupyter-widgets/base",
       "_view_module_version": "1.2.0",
       "_view_name": "LayoutView",
       "align_content": null,
       "align_items": null,
       "align_self": null,
       "border": null,
       "bottom": null,
       "display": null,
       "flex": null,
       "flex_flow": null,
       "grid_area": null,
       "grid_auto_columns": null,
       "grid_auto_flow": null,
       "grid_auto_rows": null,
       "grid_column": null,
       "grid_gap": null,
       "grid_row": null,
       "grid_template_areas": null,
       "grid_template_columns": null,
       "grid_template_rows": null,
       "height": null,
       "justify_content": null,
       "justify_items": null,
       "left": null,
       "margin": null,
       "max_height": null,
       "max_width": null,
       "min_height": null,
       "min_width": null,
       "object_fit": null,
       "object_position": null,
       "order": null,
       "overflow": null,
       "overflow_x": null,
       "overflow_y": null,
       "padding": null,
       "right": null,
       "top": null,
       "visibility": null,
       "width": null
      }
     },
     "92d5077c0dcc4a8eb0b2339147163574": {
      "model_module": "@jupyter-widgets/controls",
      "model_module_version": "1.5.0",
      "model_name": "HBoxModel",
      "state": {
       "_dom_classes": [],
       "_model_module": "@jupyter-widgets/controls",
       "_model_module_version": "1.5.0",
       "_model_name": "HBoxModel",
       "_view_count": null,
       "_view_module": "@jupyter-widgets/controls",
       "_view_module_version": "1.5.0",
       "_view_name": "HBoxView",
       "box_style": "",
       "children": [
        "IPY_MODEL_1dc021f6894c42299bd3123177f9fdbf",
        "IPY_MODEL_4da7818961344eaebcd607cbdeab554d",
        "IPY_MODEL_2d9c7143c32c411cb6de875879bd7267"
       ],
       "layout": "IPY_MODEL_a46d64e7710240a8a086a41cd95ec974"
      }
     },
     "9c0c5556dcb54184abd08b9fb740c1c2": {
      "model_module": "@jupyter-widgets/base",
      "model_module_version": "1.2.0",
      "model_name": "LayoutModel",
      "state": {
       "_model_module": "@jupyter-widgets/base",
       "_model_module_version": "1.2.0",
       "_model_name": "LayoutModel",
       "_view_count": null,
       "_view_module": "@jupyter-widgets/base",
       "_view_module_version": "1.2.0",
       "_view_name": "LayoutView",
       "align_content": null,
       "align_items": null,
       "align_self": null,
       "border": null,
       "bottom": null,
       "display": null,
       "flex": null,
       "flex_flow": null,
       "grid_area": null,
       "grid_auto_columns": null,
       "grid_auto_flow": null,
       "grid_auto_rows": null,
       "grid_column": null,
       "grid_gap": null,
       "grid_row": null,
       "grid_template_areas": null,
       "grid_template_columns": null,
       "grid_template_rows": null,
       "height": null,
       "justify_content": null,
       "justify_items": null,
       "left": null,
       "margin": null,
       "max_height": null,
       "max_width": null,
       "min_height": null,
       "min_width": null,
       "object_fit": null,
       "object_position": null,
       "order": null,
       "overflow": null,
       "overflow_x": null,
       "overflow_y": null,
       "padding": null,
       "right": null,
       "top": null,
       "visibility": null,
       "width": null
      }
     },
     "a46d64e7710240a8a086a41cd95ec974": {
      "model_module": "@jupyter-widgets/base",
      "model_module_version": "1.2.0",
      "model_name": "LayoutModel",
      "state": {
       "_model_module": "@jupyter-widgets/base",
       "_model_module_version": "1.2.0",
       "_model_name": "LayoutModel",
       "_view_count": null,
       "_view_module": "@jupyter-widgets/base",
       "_view_module_version": "1.2.0",
       "_view_name": "LayoutView",
       "align_content": null,
       "align_items": null,
       "align_self": null,
       "border": null,
       "bottom": null,
       "display": null,
       "flex": null,
       "flex_flow": null,
       "grid_area": null,
       "grid_auto_columns": null,
       "grid_auto_flow": null,
       "grid_auto_rows": null,
       "grid_column": null,
       "grid_gap": null,
       "grid_row": null,
       "grid_template_areas": null,
       "grid_template_columns": null,
       "grid_template_rows": null,
       "height": null,
       "justify_content": null,
       "justify_items": null,
       "left": null,
       "margin": null,
       "max_height": null,
       "max_width": null,
       "min_height": null,
       "min_width": null,
       "object_fit": null,
       "object_position": null,
       "order": null,
       "overflow": null,
       "overflow_x": null,
       "overflow_y": null,
       "padding": null,
       "right": null,
       "top": null,
       "visibility": null,
       "width": null
      }
     },
     "b26983a3476242b0814857ac795ea3d8": {
      "model_module": "@jupyter-widgets/controls",
      "model_module_version": "1.5.0",
      "model_name": "HTMLModel",
      "state": {
       "_dom_classes": [],
       "_model_module": "@jupyter-widgets/controls",
       "_model_module_version": "1.5.0",
       "_model_name": "HTMLModel",
       "_view_count": null,
       "_view_module": "@jupyter-widgets/controls",
       "_view_module_version": "1.5.0",
       "_view_name": "HTMLView",
       "description": "",
       "description_tooltip": null,
       "layout": "IPY_MODEL_467a7c90cde144488ff65ab2a88da763",
       "placeholder": "​",
       "style": "IPY_MODEL_0f3fe333b321499994b44f50b1f5ab08",
       "value": " 2/2 [00:26&lt;00:00, 16.73s/it]"
      }
     },
     "b409410337bb4d0b98aa9f28cc4427fb": {
      "model_module": "@jupyter-widgets/controls",
      "model_module_version": "1.5.0",
      "model_name": "HBoxModel",
      "state": {
       "_dom_classes": [],
       "_model_module": "@jupyter-widgets/controls",
       "_model_module_version": "1.5.0",
       "_model_name": "HBoxModel",
       "_view_count": null,
       "_view_module": "@jupyter-widgets/controls",
       "_view_module_version": "1.5.0",
       "_view_name": "HBoxView",
       "box_style": "",
       "children": [
        "IPY_MODEL_cbed2fa2f79140cb809f3f2d8672b84f",
        "IPY_MODEL_58d1c8cd09f44a2e8be870715a21d6b0",
        "IPY_MODEL_b26983a3476242b0814857ac795ea3d8"
       ],
       "layout": "IPY_MODEL_913379e325a94080a5fd576c867f8705"
      }
     },
     "c7c9080abef8493cbf6d28ac70235222": {
      "model_module": "@jupyter-widgets/controls",
      "model_module_version": "1.5.0",
      "model_name": "ProgressStyleModel",
      "state": {
       "_model_module": "@jupyter-widgets/controls",
       "_model_module_version": "1.5.0",
       "_model_name": "ProgressStyleModel",
       "_view_count": null,
       "_view_module": "@jupyter-widgets/base",
       "_view_module_version": "1.2.0",
       "_view_name": "StyleView",
       "bar_color": null,
       "description_width": ""
      }
     },
     "c9d831e9c2e04dd9ade089975b71640f": {
      "model_module": "@jupyter-widgets/base",
      "model_module_version": "1.2.0",
      "model_name": "LayoutModel",
      "state": {
       "_model_module": "@jupyter-widgets/base",
       "_model_module_version": "1.2.0",
       "_model_name": "LayoutModel",
       "_view_count": null,
       "_view_module": "@jupyter-widgets/base",
       "_view_module_version": "1.2.0",
       "_view_name": "LayoutView",
       "align_content": null,
       "align_items": null,
       "align_self": null,
       "border": null,
       "bottom": null,
       "display": null,
       "flex": null,
       "flex_flow": null,
       "grid_area": null,
       "grid_auto_columns": null,
       "grid_auto_flow": null,
       "grid_auto_rows": null,
       "grid_column": null,
       "grid_gap": null,
       "grid_row": null,
       "grid_template_areas": null,
       "grid_template_columns": null,
       "grid_template_rows": null,
       "height": null,
       "justify_content": null,
       "justify_items": null,
       "left": null,
       "margin": null,
       "max_height": null,
       "max_width": null,
       "min_height": null,
       "min_width": null,
       "object_fit": null,
       "object_position": null,
       "order": null,
       "overflow": null,
       "overflow_x": null,
       "overflow_y": null,
       "padding": null,
       "right": null,
       "top": null,
       "visibility": null,
       "width": null
      }
     },
     "cbed2fa2f79140cb809f3f2d8672b84f": {
      "model_module": "@jupyter-widgets/controls",
      "model_module_version": "1.5.0",
      "model_name": "HTMLModel",
      "state": {
       "_dom_classes": [],
       "_model_module": "@jupyter-widgets/controls",
       "_model_module_version": "1.5.0",
       "_model_name": "HTMLModel",
       "_view_count": null,
       "_view_module": "@jupyter-widgets/controls",
       "_view_module_version": "1.5.0",
       "_view_name": "HTMLView",
       "description": "",
       "description_tooltip": null,
       "layout": "IPY_MODEL_91a9ab582dad4dcb9284082ea148c682",
       "placeholder": "​",
       "style": "IPY_MODEL_38f9de33d38a4dbca461515fdf3a089f",
       "value": "100%"
      }
     },
     "ceb2832eddeb43dcb1f18f050f5db51d": {
      "model_module": "@jupyter-widgets/base",
      "model_module_version": "1.2.0",
      "model_name": "LayoutModel",
      "state": {
       "_model_module": "@jupyter-widgets/base",
       "_model_module_version": "1.2.0",
       "_model_name": "LayoutModel",
       "_view_count": null,
       "_view_module": "@jupyter-widgets/base",
       "_view_module_version": "1.2.0",
       "_view_name": "LayoutView",
       "align_content": null,
       "align_items": null,
       "align_self": null,
       "border": null,
       "bottom": null,
       "display": null,
       "flex": null,
       "flex_flow": null,
       "grid_area": null,
       "grid_auto_columns": null,
       "grid_auto_flow": null,
       "grid_auto_rows": null,
       "grid_column": null,
       "grid_gap": null,
       "grid_row": null,
       "grid_template_areas": null,
       "grid_template_columns": null,
       "grid_template_rows": null,
       "height": null,
       "justify_content": null,
       "justify_items": null,
       "left": null,
       "margin": null,
       "max_height": null,
       "max_width": null,
       "min_height": null,
       "min_width": null,
       "object_fit": null,
       "object_position": null,
       "order": null,
       "overflow": null,
       "overflow_x": null,
       "overflow_y": null,
       "padding": null,
       "right": null,
       "top": null,
       "visibility": null,
       "width": null
      }
     },
     "d0f568996f1f47fbb68420b32c458731": {
      "model_module": "@jupyter-widgets/base",
      "model_module_version": "1.2.0",
      "model_name": "LayoutModel",
      "state": {
       "_model_module": "@jupyter-widgets/base",
       "_model_module_version": "1.2.0",
       "_model_name": "LayoutModel",
       "_view_count": null,
       "_view_module": "@jupyter-widgets/base",
       "_view_module_version": "1.2.0",
       "_view_name": "LayoutView",
       "align_content": null,
       "align_items": null,
       "align_self": null,
       "border": null,
       "bottom": null,
       "display": null,
       "flex": null,
       "flex_flow": null,
       "grid_area": null,
       "grid_auto_columns": null,
       "grid_auto_flow": null,
       "grid_auto_rows": null,
       "grid_column": null,
       "grid_gap": null,
       "grid_row": null,
       "grid_template_areas": null,
       "grid_template_columns": null,
       "grid_template_rows": null,
       "height": null,
       "justify_content": null,
       "justify_items": null,
       "left": null,
       "margin": null,
       "max_height": null,
       "max_width": null,
       "min_height": null,
       "min_width": null,
       "object_fit": null,
       "object_position": null,
       "order": null,
       "overflow": null,
       "overflow_x": null,
       "overflow_y": null,
       "padding": null,
       "right": null,
       "top": null,
       "visibility": null,
       "width": null
      }
     },
     "d4fc3a9a531d4f1ea237c8d89c31b66d": {
      "model_module": "@jupyter-widgets/base",
      "model_module_version": "1.2.0",
      "model_name": "LayoutModel",
      "state": {
       "_model_module": "@jupyter-widgets/base",
       "_model_module_version": "1.2.0",
       "_model_name": "LayoutModel",
       "_view_count": null,
       "_view_module": "@jupyter-widgets/base",
       "_view_module_version": "1.2.0",
       "_view_name": "LayoutView",
       "align_content": null,
       "align_items": null,
       "align_self": null,
       "border": null,
       "bottom": null,
       "display": null,
       "flex": null,
       "flex_flow": null,
       "grid_area": null,
       "grid_auto_columns": null,
       "grid_auto_flow": null,
       "grid_auto_rows": null,
       "grid_column": null,
       "grid_gap": null,
       "grid_row": null,
       "grid_template_areas": null,
       "grid_template_columns": null,
       "grid_template_rows": null,
       "height": null,
       "justify_content": null,
       "justify_items": null,
       "left": null,
       "margin": null,
       "max_height": null,
       "max_width": null,
       "min_height": null,
       "min_width": null,
       "object_fit": null,
       "object_position": null,
       "order": null,
       "overflow": null,
       "overflow_x": null,
       "overflow_y": null,
       "padding": null,
       "right": null,
       "top": null,
       "visibility": null,
       "width": null
      }
     },
     "d6f100df9d524cd0b72cd22033135a9e": {
      "model_module": "@jupyter-widgets/base",
      "model_module_version": "1.2.0",
      "model_name": "LayoutModel",
      "state": {
       "_model_module": "@jupyter-widgets/base",
       "_model_module_version": "1.2.0",
       "_model_name": "LayoutModel",
       "_view_count": null,
       "_view_module": "@jupyter-widgets/base",
       "_view_module_version": "1.2.0",
       "_view_name": "LayoutView",
       "align_content": null,
       "align_items": null,
       "align_self": null,
       "border": null,
       "bottom": null,
       "display": null,
       "flex": null,
       "flex_flow": null,
       "grid_area": null,
       "grid_auto_columns": null,
       "grid_auto_flow": null,
       "grid_auto_rows": null,
       "grid_column": null,
       "grid_gap": null,
       "grid_row": null,
       "grid_template_areas": null,
       "grid_template_columns": null,
       "grid_template_rows": null,
       "height": null,
       "justify_content": null,
       "justify_items": null,
       "left": null,
       "margin": null,
       "max_height": null,
       "max_width": null,
       "min_height": null,
       "min_width": null,
       "object_fit": null,
       "object_position": null,
       "order": null,
       "overflow": null,
       "overflow_x": null,
       "overflow_y": null,
       "padding": null,
       "right": null,
       "top": null,
       "visibility": null,
       "width": null
      }
     },
     "ee88026cc23a447c93ecbdb1ef76d462": {
      "model_module": "@jupyter-widgets/controls",
      "model_module_version": "1.5.0",
      "model_name": "ProgressStyleModel",
      "state": {
       "_model_module": "@jupyter-widgets/controls",
       "_model_module_version": "1.5.0",
       "_model_name": "ProgressStyleModel",
       "_view_count": null,
       "_view_module": "@jupyter-widgets/base",
       "_view_module_version": "1.2.0",
       "_view_name": "StyleView",
       "bar_color": null,
       "description_width": ""
      }
     }
    },
    "version_major": 2,
    "version_minor": 0
   }
  }
 },
 "nbformat": 4,
 "nbformat_minor": 4
}
